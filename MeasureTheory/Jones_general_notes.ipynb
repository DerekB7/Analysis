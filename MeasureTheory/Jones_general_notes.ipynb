{
 "cells": [
  {
   "cell_type": "markdown",
   "id": "94314e24",
   "metadata": {},
   "source": [
    "**re-cut of page 76-78**  (Chapter 3) of Jones  \n",
    "to make it fit with my take and be a lot more Nelson-ish.  In all case 'measure' refers to the Lebesgue measure.      \n",
    "\n",
    "We can in fact take $J$ to be \"special rectangles\" (closed intervals) if we instead use the Corollary at the very end of \"nelson_chp1.ipynb\". I.e. when we write an open set as a countable union of pairwise non-overlapping intervals via the subdivision process of Lemma 1.2.10 we have the result that any two distinct (ref def 1.2.7) pairwise nonoverlapping intervals $I_k, I_j$ for $j\\neq k$ have an intersection $I_k\\cap I_j \\subseteq S_\\text{hyp}$ for some hyperplane $S_\\text{hyp}$. \n",
    "\n",
    "*Lemma:*    for $T\\in GL_n\\big(\\mathbb R\\big)$, $T$ sends measure zero sets to measure zero sets  \n",
    "[proof deferred to next section]       \n",
    "\n",
    "Thus $m\\Big(T\\big(I_k \\cap  I_j\\big)\\Big)=m\\Big(T\\big(I_k\\big) \\cap T\\big( I_j\\big)\\Big)=0$ for $j\\neq k$ hence mimicking Jones we may write open set $A$ as a countable union of closed intervals $J_k$   \n",
    "$m\\Big(A\\Big)   = m\\Big(\\bigcup_{k=1}^\\infty J_k\\Big) =\\sum_{k=1}^\\infty m\\Big(J_k\\Big)$ and  \n",
    "$m\\Big(TA\\Big) = m\\Big(T\\bigcup_{k=1}^\\infty J_k\\Big)= m\\Big(\\bigcup_{k=1}^\\infty T J_k\\Big)  =\\sum_{k=1}^\\infty m\\Big(T J_k\\Big)=\\sum_{k=1}^\\infty \\rho^{(T)}\\cdot m\\Big( J_k\\Big)=\\rho^{(T)}\\cdot \\sum_{k=1}^\\infty m\\Big( J_k\\Big)=\\rho^{(T)}\\cdot  m\\Big( A\\Big)$   \n",
    "*note: the orange asterisk after this section clarifies the second equality*   \n",
    "\n",
    "\n",
    "where $\\rho^{(T)}:= \\frac{m\\Big(T J_k\\Big)}{m\\Big(J_k\\Big)}= \\frac{m\\Big(T J\\Big)}{m\\Big(J\\Big)}=m\\Big(T J\\Big)$ where $J$ is the standard unit closed interval.  The middle equality comes from revisiting Neslon's Lemma 1.2.10 which symmetrically subdivides each closed interval so $J_k = \\sigma \\cdot J + \\mathbf x$, i.e. a re-scaling and a translation hence  \n",
    "$\\frac{m\\Big(T J_k\\Big)}{m\\Big(J_k\\Big)}= \\frac{m\\Big(T (\\sigma \\cdot J +\\mathbf x) \\Big)}{m\\Big((\\sigma \\cdot J +\\mathbf x)\\Big)}= \\frac{m\\Big(\\sigma \\cdot T J +T\\mathbf x \\Big)}{m\\Big(\\sigma \\cdot J+\\mathbf x\\Big)}= \\frac{m\\Big(\\sigma \\cdot T J  \\Big)}{m\\Big(\\sigma \\cdot J\\Big)}= \\frac{m\\Big(T J  \\Big)}{m\\Big(J\\Big)}$  \n",
    "where the 2nd equality comes from linearity of $T$, the third equality is ex 1.4.9 and the final equality is ex 1.4.10  \n",
    "\n",
    "Thus for arbitrary $T\\in GL_n(\\mathbb R)$, we need to find $\\rho^{(T)}$ to determine the impact $T$ has on the measure of open sets.  And since $T$ may be written as a product of finitely many (type 1 and 3) elementary matrices (recall $SL_n(\\mathbb R)$ is generate by type 1 elementary matrices -- Artin chp. 4), for arbitrary open set $A$ the above tells us (formally using induction at the 1st equality)    \n",
    "$\\prod_{j=1}^{r}\\rho^{(E^{(j)})}\\cdot m\\Big(A\\Big)=\\dots=\\rho^{(E^{(j)})}\\cdot m\\Big( E^{(r-1)}\\cdots E^{(1)}A\\Big) =m\\Big(E^{(r)} E^{(r-1)}\\cdots E^{(1)}A\\Big) =m\\Big(TA\\Big) =\\rho^{(T)}\\cdot  m\\Big( A\\Big)$    \n",
    "\n",
    "Ala  Jones, the calculation is easy and direct for type 3 elementary matrices since they send closed intervals to closed intervals.  For type 1 elementary matrices (mostly) mimicking Jones we may consider $A=\\big\\{x\\vert  -c\\cdot x_2 \\lt x_1 \\lt 0, 0\\lt x_2\\lt 1, \\dots, 0\\lt x_n \\lt 1\\big\\}$. [*See the note near the end of this writeup for a better approach.*]  Thankfully after all this we discover that $m\\big(TJ\\big) = \\big \\vert \\det\\big(T\\big)\\big \\vert$ which gives the result that arbitrary matrix $T\\in GL_n\\big(\\mathbb R\\big)$ observes $m\\big(TA\\big) = \\big \\vert \\det\\big(T\\big)\\big\\vert \\cdot m\\big(A\\big)$ when $A$ is an open set.  \n"
   ]
  },
  {
   "cell_type": "markdown",
   "id": "3bfa1c12",
   "metadata": {},
   "source": [
    "\n",
    "$\\color{orange}{*}$ As an aside the above argument for why $T\\big(\\bigcap_{j=1}^\\infty G_j\\big)=\\bigcap_{j=1}^\\infty T\\big(G_j\\big)$ also confirms Jones's manipulations on page 78, since for open set $G:=\\bigcup_{k=1}^\\infty J_k\\implies G^C= \\bigcap_{k=1}^\\infty J_k^C$ hence  \n",
    "$\\big(TG\\big)^C = T\\big(G^C\\big)=T\\bigcap_{k=1}^\\infty J_k^C=\\bigcap_{k=1}^\\infty T\\big(J_k^C\\big)$  \n",
    "$\\implies TG =\\Big(\\bigcap_{k=1}^\\infty T\\big(J_k^C\\big)\\Big)^C=\\bigcup_{k=1}^\\infty \\big(T J_k^C\\big)^C=\\bigcup_{k=1}^\\infty T\\big(J_k\\big)$  \n",
    "where we are able to use $\\big(TG\\big)^C = T\\big(G^C\\big)$ and $\\big(T J_k^C\\big)^C=  T\\big(J_k\\big)$  since $T$ is a homeomorphism of $\\mathbb R^n$ to itself   \n"
   ]
  },
  {
   "cell_type": "markdown",
   "id": "a31f60f7",
   "metadata": {},
   "source": [
    "**deferred proof:**  \n",
    "For $T\\in GL_n\\big(\\mathbb R\\big)$ that $m\\big(N\\big)=0\\implies m\\big(TN\\big)=0$.  \n",
    "\n",
    "Apply Theorem 1.1.13 in Nelson:      \n",
    "We have for arbitrary $\\epsilon \\gt 0$ that $m\\big(N\\big)=0\\implies N\\subseteq G$ for some open set $G$ where $m^*\\big(G\\big)\\lt m^*\\big(N\\big)+ \\epsilon = \\epsilon$ thus   \n",
    "$m^*\\big(TN\\big)$  \n",
    "$\\leq m^*\\big(TG\\big)=m\\big(TG\\big)  = m\\Big(T\\bigcup_{k=1}^\\infty J_k\\Big)= m\\Big(\\bigcup_{k=1}^\\infty T J_k\\Big)  $  \n",
    "$\\leq \\sum_{k=1}^\\infty m\\Big(T J_k\\Big)=\\sum_{k=1}^\\infty \\rho^{(T)}\\cdot m\\Big( J_k\\Big)=\\rho^{(T)}\\cdot \\sum_{k=1}^\\infty m\\Big( J_k\\Big) = \\rho^{(T)}\\cdot m\\Big(\\bigcup_{k=1}^\\infty J_k\\Big)=\\rho^{(T)}\\cdot  m\\Big( G\\Big)=\\rho^{(T)}\\cdot\\epsilon$   \n",
    "And $TJ$ is compact hence [measurable and] closed and bounded in $\\mathbb R^n$, i.e. living in some large enough closed interval   \n",
    "$\\implies \\rho^{(T)}:= \\frac{m\\Big(T J_k\\Big)}{m\\Big(J_k\\Big)}$ $= \\frac{m\\Big(T J\\Big)}{m\\Big(J\\Big)}=m\\Big(T J\\Big)\\lt \\infty$ (where $J$ is the standard unit closed interval / 'rectangle') and $\\epsilon$ may be made arbitrarily small hence $m\\big(TN\\big)= m^*\\big(TN\\big)=0$ as required.  \n"
   ]
  },
  {
   "cell_type": "code",
   "execution_count": null,
   "id": "c567f80b",
   "metadata": {},
   "outputs": [],
   "source": []
  },
  {
   "cell_type": "markdown",
   "id": "cf99c312",
   "metadata": {},
   "source": [
    "The question then arises -- how do we extend this to all measurable sets.  Jones suggests that the reader\n",
    "should do this by *\"working through Stages 4, 5, 6 in the construction of the Lebesgue measure in Chapter 2\"*  to confirm this implies the result for arbitrary measurable sets; this seems long, tedious and seemingly violates what Jones says back in Chapter 2, on page 49, \"once the measure has been constructed, however,  and all the following properties have been established, you can virtually forget where it all came from and how the final result came about\".  Instead we can evaluate $T$'s impact on an arbitrary measurable set's measurable hull (ex 1.4.24 in Nelson) which is written as a countable intersection of open sets.  \n",
    "\n",
    "\n",
    "Knowing $m\\big(TA\\big)=\\big \\vert \\det \\big(T\\big)\\big\\vert \\cdot m\\big(A\\big)$ for arbitrary open set $A \\implies m\\big(TH\\big)=\\big \\vert \\det \\big(T\\big)\\big\\vert \\cdot m\\big(H\\big)$   \n",
    "when $H$ is the measurable hull of some set, constructed to be a type $G_\\delta$ set that is a descending filtration as in ex 1.4.24 in \"nelson_chp1.ipynb\"   \n",
    "\n",
    "Recall ex 1.4.24 in \"nelson_chp1.ipynb\".  E.g. $H= \\lim_{k\\to \\infty}H_k=\\lim_{k\\to \\infty}\\bigcap_{j=1}^k G_j$ where $G_j$ are open (hence $H_k$ are open) so it is a limit of a descending filtration.  \n",
    "$T\\big(H\\big) =T\\big(\\bigcap_{j=1}^\\infty G_j\\big)=\\bigcap_{j=1}^\\infty T\\big(G_j\\big)$  where the right hand side follows because $T$ is invertible so for $p\\in \\bigcap_{j=1}^\\infty G_j$ we have $T\\big(p\\big) \\subseteq \\bigcap_{j=1}^\\infty T\\big(G_j\\big)\\implies T\\big(\\bigcap_{j=1}^\\infty G_j\\big)\\subseteq \\bigcap_{j=1}^\\infty T\\big(G_j\\big)$ and if that subset is proper, we can apply $T^{-1}$ to get $\\bigcap_{j=1}^\\infty G_j=T^{-1}\\circ T\\big(\\bigcap_{j=1}^\\infty G_j\\big)\\subset T^{-1}\\Big(\\bigcap_{j=1}^\\infty T\\big(G_j\\big)\\Big)\\subseteq \\bigcap_{j=1}^\\infty G_j$ which is impossible $\\implies  T\\big(\\bigcap_{j=1}^\\infty G_j\\big)=\\bigcap_{j=1}^\\infty T\\big(G_j\\big)$. Thus $T\\big(H\\big) =\\bigcap_{j=1}^\\infty T\\big(G_j\\big) = \\lim_{k\\to \\infty}\\bigcap_{j=1}^k T\\big(G_j\\big)=\\lim_{k\\to \\infty} T\\big(H_k\\big)$ again, a countable intersection of open sets (hence measurable) that are part of a descending filtration, hence per Nelson ex 1.4.24 we have  \n",
    "$m\\Big(T(H)\\Big) = \\lim_{k\\to \\infty} m\\big(T(H_k)\\big)= \\big \\vert \\det\\big(T\\big)\\big\\vert\\cdot \\lim_{k\\to \\infty} m\\big(H_k\\big)= \\big \\vert \\det\\big(T\\big)\\big\\vert\\cdot m\\big(H\\big)$.   \n",
    "\n",
    "*Conclude:* proving the determinant result for the measure of $T$ on open sets also yields the result on measurable hulls.  \n",
    "\n",
    "Thus for measurable $A$ we have a measurable hull $H = A \\cup (H-A)= A\\cup N\\implies H - N =A$  where $m\\big(N\\big)=0$.  Now $T\\big(A\\big)=T\\big(H -N\\big) =T\\big(H\\big)-T\\big(N\\big)$ so $T\\big(A\\big)$ is measurable since $T\\big(N\\big)$ has measure zero, so is measurable   \n",
    "Noticing $\\Big(T\\big(H\\big)-T\\big(N\\big)\\Big) = T\\Big(H\\Big)\\cap \\Big(T\\big(N\\big)\\Big)^C = T\\Big(H\\Big)\\cap T\\Big(N^C\\Big)= T\\Big(H\\cap N^C\\Big)  = T\\Big(H-N\\Big)$.  \n",
    "**Conclude**       \n",
    "$\\big \\vert \\det\\big(T\\big)\\big\\vert\\cdot m\\big(A\\big) =\\big \\vert \\det\\big(T\\big)\\big\\vert\\cdot m\\big(H\\big) = m\\big(T H \\big)=m\\big(T A \\big)+m\\big(T N \\big)=m\\big(T A\\big)+0=m\\big(T A\\big)$  \n"
   ]
  },
  {
   "cell_type": "markdown",
   "id": "8c7868eb",
   "metadata": {},
   "source": [
    "**singular T:**  \n",
    "*remark on hyperplanes:*  \n",
    "An awkward item in Nelson is the definition for hyperplane, which isn't quite right.  Nelson has in effect defined it as $S_\\text{hyp} = \\big\\{\\mathbf x\\vert \\mathbf e_k^T\\mathbf x = c\\big\\}$ whereas the proper definition is $S_\\text{hyp} = \\big\\{\\mathbf x\\vert \\mathbf a^T\\mathbf x = c\\big\\}=\\big\\{\\mathbf x\\vert \\frac{1}{\\Vert \\mathbf a\\Vert_2}\\mathbf a^T\\mathbf x = \\frac{c}{\\Vert \\mathbf a\\Vert_2}\\big\\}$ for some non-zero $\\mathbf a$. \n",
    "\n",
    "Translation does not change Lebesgue measure so we may subtract $ \\frac{c}{\\Vert \\mathbf a\\Vert_2}\\mathbf a$ from all points and consider  \n",
    "$S'_\\text{hyp} := \\big\\{\\mathbf x\\vert \\mathbf a^T\\mathbf x = 0\\big\\}=\\big\\{\\mathbf x\\vert \\mathbf a^T Q^TQ\\mathbf x = 0\\big\\}= \\big\\{\\mathbf x\\vert \\mathbf e_1^T \\big(Q \\mathbf x\\big) = 0\\big\\}$ for some well chosen $Q\\in SO_n\\big(\\mathbb R\\big)$   \n",
    "$\\implies  Q\\cdot S'_\\text{hyp}=\\big\\{Q \\mathbf x\\vert \\mathbf e_1^T \\big(Q \\mathbf x\\big) = 0\\big\\}$  \n",
    "$\\implies 0 = m\\big(Q\\cdot S'_\\text{hyp}\\big)= \\big \\vert\\det\\big(Q\\big)\\big \\vert \\cdot m\\big( S'_\\text{hyp}\\big)=1 \\cdot  m\\big( S'_\\text{hyp}\\big) =  m\\big( S_\\text{hyp}\\big)$  \n",
    "where the equalities are ex 1.4.4 in Nelson, the above writeup, $\\det\\big(Q\\big)=1$, and ex 1.4.9 in Nelson.  \n",
    "\n",
    "Now, if $\\det\\big(T\\big)=0$ then for arbitrary $A\\subseteq \\mathbb R^n$ we have $TA\\subseteq T\\mathbb R^n\\subseteq S$ where $S$ is a some well chosen hyperplane.  Thus we conclude $m^*\\big(TA\\big)\\leq m\\big(S\\big)=0 \\implies m^*\\big(TA\\big) = 0 =  \\big \\vert \\det\\big(T\\big)\\big \\vert \\cdot m^*\\big(A\\big)$ \n",
    "i.e. the identity still holds, even when $T$ is singular\n",
    "\n",
    "Technically to make the commentary in this section reasonable, we need to insist on the convention that $0\\cdot \\infty = 0$ which is used in some other measure theory texts though not in Nelson.  Jone does not say his book uses $0\\cdot \\infty =0$ -- instead on page 112 he says it is \"usually undefined, but frequently is 0\", yet in chapter 8 [Fubini for $\\mathbb R^n$] he tacitly requires $0\\cdot \\infty =0$; similarly to make sense of the determinant formula in chapter 3, $0\\cdot \\infty =0$ is needed.  \n"
   ]
  },
  {
   "cell_type": "code",
   "execution_count": null,
   "id": "b45ad0c1",
   "metadata": {},
   "outputs": [],
   "source": []
  },
  {
   "cell_type": "markdown",
   "id": "0f4ae602",
   "metadata": {},
   "source": [
    "*alternative approach to evaluating type 1 elementary matrices*  \n",
    "note: Jones calculates $\\rho^{(T)}$ when $T$ is a type 3 elementary matrix in a very straight forward way that it has $\\rho =\\big\\vert\\det\\big(T\\big)\\big \\vert$.  When calculating $\\rho^{(T)}$ for type 1 elementary matrix $T$ he specializes to a very  special modified \"box\".  A different approach shows that the result for type 1 elementary matrices algebraically follows from the result on type 3 elementary matrices and is given below.   \n",
    "\n",
    "let $T= I_n + \\mathbf e_i \\mathbf e_j^T$ for some $j\\gt i$.  Then $T^{-1}= I_n - \\mathbf e_i \\mathbf e_j^T\\implies E_iT = T^{-1}E_i$ where $E_i$ is type 3 elementary with $e_{i,i}:=-1$.  (I.e. $T$ is similar to its inverse via type 3 elementary matrices.)  Then for arbitrary open set $A\\in \\mathbb R^n$ (e.g. $A:= \\text{interior }J$) we have  \n",
    "\n",
    "$\\rho^{(T)}\\cdot m\\big(A\\big)= 1\\cdot m\\big(T A\\big)= m\\big(E_i T A\\big)=m\\big(T^{-1} E_i A\\big)=\\rho^{(T^{-1})}\\cdot m\\big(E_i A\\big)=\\rho^{(T^{-1})}\\cdot 1\\cdot m\\big(A\\big)$  \n",
    "$\\implies \\rho^{(T)}=\\rho^{(T^{-1})}$  and      \n",
    "$m\\big(A\\big)=m\\big(T T^{-1} A\\big)=\\rho^{(T)}\\cdot m\\big(T^{-1}A\\big)=\\rho^{(T)}\\cdot\\rho^{(T^{-1})}\\cdot m\\big(A\\big)$  \n",
    "$\\implies 1= \\rho^{(T)}\\cdot\\rho^{(T^{-1})} = \\rho^{(T)}\\cdot\\rho^{(T)}\\implies \\rho^{(T)}\\in \\big\\{1,-1\\big\\}\\implies \\rho^{(T)}=1=\\big \\vert \\det\\big(T\\big)\\big \\vert$  \n",
    "since measures, hence $\\rho^{(T)}$ are $\\geq 0$  \n",
    "\n",
    "*optional:*  \n",
    "since type 2 elementary matrices are symmetric and involutions the above essentially gives the calculation for them too as  \n",
    "$\\rho^{(T)}\\cdot m\\big(A\\big)= \\rho^{(T^{-1})}\\cdot m\\big(A\\big)$  since $T=T^{-1}$ for type 2 elementary matrix and  \n",
    "$m\\big(A\\big)=m\\big(T T^{-1} A\\big)=\\rho^{(T)}\\cdot m\\big(T^{-1}A\\big)=\\rho^{(T)}\\cdot\\rho^{(T^{-1})}\\cdot m\\big(A\\big)$  \n",
    "$\\implies \\rho^{(T)}\\in \\big\\{1,-1\\big\\}\\implies \\rho^{(T)}=1=\\big \\vert \\det\\big(T\\big)\\big \\vert$   as above\n",
    "\n"
   ]
  },
  {
   "cell_type": "markdown",
   "id": "d75c858b",
   "metadata": {},
   "source": [
    "*the determinant rule holds with respect to outer measure as well, i.e.*  $m^*\\big(TA\\big)=\\big \\vert \\det \\big(T\\big)\\big\\vert \\cdot m^*\\big(A\\big)$   \n",
    "For $T\\in GL_n\\big(\\mathbb R\\big)$ and for arbitrary $A\\subseteq \\mathbb R^n$ we have a measurable hull $H$ [ref ex 1.4.24 in Nelson or chapter 2 problem 37 in Jones] where $A\\subseteq H$ and $m^*\\big(A\\big) = m\\big(H\\big)$.  Thus we have $m^*\\big(TA\\big)\\leq m\\big(TH\\big)$ by the subset property (Prop 1.1.8 in Nelson). Now let $K$ be a measurable hull of $TA$ yielding $ m\\big(TH\\big)\\geq m^*\\big(TA\\big)  = m\\big(K\\big)$.  \n",
    "\n",
    "Applying $T^{-1}$ gives  \n",
    "$T^{-1}K \\supseteq A \\implies m\\big(T^{-1}K\\big)\\geq  m^*\\big(A\\big)$.  The preceding discussion then yields  \n",
    "$ \\big \\vert \\det T\\big\\vert \\cdot m\\big(H\\big) = m\\big(TH\\big) \\geq m^*\\big(TA\\big) = m\\big(K\\big) = m\\big(T\\circ T^{-1}K\\big) =  \\big \\vert \\det T\\big\\vert \\cdot m\\big(T^{-1}K\\big)\\geq \\big \\vert \\det T\\big\\vert \\cdot m^*\\big(A\\big)= \\big \\vert \\det T\\big\\vert \\cdot m\\big(H\\big) $    \n",
    "$\\implies m^*\\big(TA\\big)=\\big \\vert \\det T\\big\\vert \\cdot m^*\\big(A\\big) $  since the inequalities are necessarily met with equality  \n",
    "\n",
    "And of the case of $\\det\\big(T\\big)=0$ was already handled in the 'singular T' case.  \n"
   ]
  }
 ],
 "metadata": {
  "kernelspec": {
   "display_name": "Python 3 (ipykernel)",
   "language": "python",
   "name": "python3"
  },
  "language_info": {
   "codemirror_mode": {
    "name": "ipython",
    "version": 3
   },
   "file_extension": ".py",
   "mimetype": "text/x-python",
   "name": "python",
   "nbconvert_exporter": "python",
   "pygments_lexer": "ipython3",
   "version": "3.8.16"
  }
 },
 "nbformat": 4,
 "nbformat_minor": 5
}
