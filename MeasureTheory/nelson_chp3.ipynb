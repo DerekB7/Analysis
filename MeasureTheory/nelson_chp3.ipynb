{
 "cells": [
  {
   "cell_type": "code",
   "execution_count": null,
   "id": "37b00c9f",
   "metadata": {},
   "outputs": [],
   "source": []
  },
  {
   "cell_type": "markdown",
   "id": "80a54b01",
   "metadata": {},
   "source": [
    "Better approach to the argument on page 115 is to make the argument (partially) in reverse \n",
    "$\\sum_{k=1}^\\infty \\big\\Vert g_k\\big\\Vert_1$  \n",
    "$=\\lim_{n\\to \\infty}\\sum_{k=1}^n \\big\\Vert g_k\\big\\Vert_1$  \n",
    "$=\\lim_{n\\to \\infty}\\int_a^b \\sigma_n $  \n",
    "$\\geq \\lim_{n\\to \\infty}\\int_a^b \\sigma_n^N $  \n",
    "$= \\int_a^b \\sigma^N$  \n",
    "where the inequality holds since $\\sigma_n\\geq \\sigma_n^N\\implies \\int_a^b\\sigma_n\\geq \\int_a^b\\sigma_n^N$ and take a limit of that sequence; the final equality holds by Monotone Convergence Theorem case (i) since $\\lim_{n\\to \\infty}\\int_a^b \\sigma_n^N\\lt \\infty$.  This means $\\sigma^N \\in \\mathcal L[a,b]$ hence $\\sigma^N$ is (Lebesgue) measurable so $E_N = \\big\\{x\\vert \\sigma^N(x)\\geq N\\big\\}$ is measurable and so is $E = \\bigcap_{N=1}^\\infty E_N$ which is needed when writing $N\\cdot m\\big(E\\big) =   \\int_a^b N \\cdot \\mathcal X_E \\leq \\int_a^b \\sigma^N$ -- Nelson had the (first) equality as an inequality which is not wrong but is a bit confusing and recalling ex 2.6.1 that we need $E$ to be measurable for $ \\mathcal X_E $ to be measurable (which is needed for its integral to exist).  "
   ]
  },
  {
   "cell_type": "code",
   "execution_count": null,
   "id": "47b63965",
   "metadata": {},
   "outputs": [],
   "source": []
  },
  {
   "cell_type": "markdown",
   "id": "32562659",
   "metadata": {},
   "source": [
    "Better approach to **Young's Inequality** [Lemma 3.2.6 on page 122]  \n",
    "\n",
    "with $\\alpha, \\beta \\gt 0$ and $\\alpha +\\beta =1$ [convex combinations] and $A,B \\gt 0$   \n",
    "(the desired result trivially holds when $A$ or $B$ is zero)  \n",
    "\n",
    "let $A^\\frac{1}{\\alpha} = e^\\lambda$ and $B^\\frac{1}{\\beta}=e^\\sigma$  then  \n",
    "$AB =\\big(A^\\frac{1}{\\alpha} \\big)^\\alpha\\big(B^\\frac{1}{\\beta}\\big)^\\beta=\\big(e^\\lambda\\big)^\\alpha\\big(e^\\sigma\\big)^\\beta=\\exp\\big(\\alpha\\cdot\\lambda +\\beta\\cdot\\sigma\\big)\\leq \\alpha\\cdot\\exp\\big(\\lambda\\big) +  \\beta\\cdot\\exp\\big(\\sigma\\big) = \\alpha \\cdot A^\\frac{1}{\\alpha} +\\beta \\cdot B^\\frac{1}{\\beta}$  \n",
    "by strict convexity of the exponential function.  This is met with equality **iff** $\\lambda =\\sigma \\iff A^\\frac{1}{\\alpha} = e^\\lambda=e^\\sigma=B^\\frac{1}{\\beta}$, though we don't need the \"only if\".  \n",
    "\n",
    "Since the \"only if\" isn't needed we could get to this result with classical $\\text{GM}\\leq \\text{AM}$ and take  straightforward limits.  \n",
    "i.e let $\\alpha_k\\in \\mathbb Q_{\\gt 0}$ be a sequence $\\alpha_k \\to \\alpha$ and $\\beta_k := 1- \\alpha_k$ then $AB \\leq \\alpha_k \\cdot A^\\frac{1}{\\alpha_k} +\\beta_k \\cdot B^\\frac{1}{\\beta_k}$  \n",
    "recalling that for $x\\gt 0$ we have $x^p =\\exp\\big(p\\cdot \\text{log}(x)\\big)$ and continuous functions compose well with sequences  \n",
    "\n",
    "\n",
    "Note: the exercise in Jones (chp 10, problem 1 on p. 224) is to prove (in effect that)   \n",
    "$AB \\leq \\alpha \\cdot A^\\frac{1}{\\alpha} +\\beta \\cdot B^\\frac{1}{\\beta}$  with equality *iff* $A^\\frac{1}{\\alpha} = B^\\frac{1}{\\beta}$ and to do so by fixing $B$ and minimizing the function $AB - A^\\frac{1}{\\alpha}\\cdot \\alpha$ using calculus  \n",
    "\n",
    "\n",
    "\n",
    "\n",
    "**implication for H&ouml;lder's Inequality equality conditions**  \n",
    "for $f \\in L^p[a,b]$ and $g \\in L^q[a,b]$   \n",
    "with $\\alpha := \\frac{1}{p}$ and $\\beta := \\frac{1}{a}$   \n",
    "\n",
    "if $\\big \\vert f(x)\\big \\vert^p = \\big \\vert h(x)\\big \\vert^q\\text{ a.e.}$ then $\\big\\Vert f\\cdot h\\big\\Vert_1 = \\big\\Vert f\\big\\Vert_p \\cdot  \\big\\Vert h\\big\\Vert_q$  \n",
    "\n",
    "slightly more generally H&ouml;lder is met with equality *iff* $\\vert\\eta\\vert \\cdot\\big \\vert f(x)\\big \\vert^p = \\big \\vert h(x)\\big \\vert^q\\text{ a.e.}$ for some $\\eta \\in \\mathbb R$ then $\\big\\Vert f\\cdot h\\big\\Vert_1 = \\big\\Vert f\\big\\Vert_p \\cdot  \\big\\Vert h\\big\\Vert_q$  [for non-zero $\\eta$ multiply each side by $\\frac{1}{\\eta}$ and use property (iii), homogeneity of positive re-scaling, of norms] though again we won't be using the \"only if\"   \n",
    "\n",
    "\n",
    "*For the time being: assume the special case that if* $f \\in L^p[a,b]$ then $f \\in L^q[a,b]$  i.e. consider $L^p[a,b] \\cap L^q[a,b]$  \n",
    "define $W_q:= \\Big\\{h \\big\\vert 1= \\big \\Vert h \\big \\Vert_q\\Big\\}$  \n",
    "$\\implies \\Big\\Vert f\\big\\Vert_p = \\max_{h\\in W} \\big\\Vert h \\cdot f\\big\\Vert_1$  \n",
    "\n",
    "**which implies Minkowski's (Triangle) Inequality**  \n",
    "again focusing on $L^p[a,b] \\cap L^q[a,b]$  (which of course works as desired when e.g. $p\\geq 2$ with special emphasis on $p=2$, or when we restrict to bounded functions)  \n",
    "\n",
    "$\\Big\\Vert f + g\\big\\Vert_p$  \n",
    "$= \\max_{h\\in W}\\big\\Vert h \\cdot (f+ g)\\big\\Vert_1$  \n",
    "$=  \\big\\Vert h^* \\cdot f+ h^*\\cdot g\\big\\Vert_1$  \n",
    "$\\leq \\big\\Vert h^* \\cdot f\\big\\Vert_1 + \\big\\Vert h^*\\cdot g\\big\\Vert_1\\text{ (triangle inequality since }L^1\\text{ is a Banach space)}$  \n",
    "$\\leq \\max_{h\\in W}\\big\\Vert h \\cdot f\\big\\Vert_1 + \\max_{H\\in W}\\big\\Vert H \\cdot g\\big\\Vert_1\\text{ (two choices are better than one)}$  \n",
    "$=\\Big\\Vert f \\big\\Vert_p+\\Big\\Vert g \\big\\Vert_p$   \n",
    "\n",
    "**Convergence nits**     \n",
    "The issue is that $f\\in L^p[a,b]\\nRightarrow f\\in L^q[a,b]$ as there could convergence issues (in particular when $p \\in (1,2)$).  We can work around this via truncation (recall notation from page 80) since truncated functions have bounded integrals over $[a,b]$ .  The above argument tells us for $N\\in \\mathbb N$ and $f,g \\in   L^p[a,b]$  \n",
    "$\\Big\\Vert {}^N f + {}^N g\\big\\Vert_p\\leq \\Big\\Vert {}^N f \\big\\Vert_p+\\Big\\Vert {}^N g \\big\\Vert_p\\leq \\Big\\Vert f \\big\\Vert_p+\\Big\\Vert g \\big\\Vert_p\\lt \\infty$  \n",
    "(where the middle inequality is is Theorem 2.3.6)\n",
    "\n",
    "Now define $H_N := \\big\\vert {}^N f + {}^N g\\big\\vert^p$ noting $\\lim_{N\\to \\infty} H_N =H = \\big\\vert f + g\\big\\vert^p\\text{ a.e.}$ (point-wise) and notice the dominance  \n",
    "$H_N(x) \\leq \\Big(2\\cdot\\max(\\vert f(x)\\vert ,\\vert g(x)\\vert \\big)\\Big)^p\\leq 2^p\\cdot\\Big( \\vert f(x)\\vert^p +\\vert g(x)\\vert^p\\Big)$ [essentially the same manipulation as in Prop 3.2.3(ii) proof]  \n",
    "$\\implies \\Big\\Vert f + g\\big\\Vert_p^p = \\Big\\Vert H \\big\\Vert_1 = \\lim_{N\\to\\infty}\\Big\\Vert H_N \\big\\Vert_1 = \\lim_{N\\to\\infty}\\Big\\Vert {}^N f + {}^N g\\big\\Vert_p^p\\leq \\Big(\\Big\\Vert f \\big\\Vert_p+\\Big\\Vert g \\big\\Vert_p\\Big)^p$  \n",
    "where the 2nd equality is Theorem 2.4.6 (Dominated Convergence).  And taking $p$th roots gives the result.  "
   ]
  },
  {
   "cell_type": "markdown",
   "id": "05ac36f4",
   "metadata": {},
   "source": [
    "*re equality conditions*  \n",
    "since e.g. $\\Big\\Vert \\vert f \\vert \\big\\Vert_p  = \\Big\\Vert f \\big\\Vert_p $  and $\\vert ^N f \\vert \\leq \\vert f \\vert$ we have  \n",
    "$\\lim_{N\\to \\infty}\\Big\\Vert {}^N f \\big\\Vert_p+\\Big\\Vert {}^N g \\big\\Vert_p = \\Big\\Vert f \\big\\Vert_p+\\Big\\Vert g \\big\\Vert_p$  by Dominated Convergence (or Monotone Convergence)  \n",
    "\n",
    "maybe easier with  \n",
    "$\\Big\\Vert {}^N f + {}^N g\\big\\Vert_p\\leq \\Big\\Vert {}^N \\vert f \\vert + {}^N \\vert g\\vert \\big\\Vert_p\\leq  \\Big\\Vert {}^N\\vert f \\vert \\big\\Vert_p+\\Big\\Vert {}^N \\vert g\\vert \\big\\Vert_p = \\Big\\Vert {}^N f \\big\\Vert_p+\\Big\\Vert {}^N g \\big\\Vert_p\\leq \\Big\\Vert f \\big\\Vert_p+\\Big\\Vert g \\big\\Vert_p\\lt \\infty$  \n"
   ]
  },
  {
   "cell_type": "markdown",
   "id": "9050bc56",
   "metadata": {},
   "source": [
    "We can also finish with *Fatou's Lemma*   \n",
    "\n",
    "since $H_N$ is nonegative and $H_N \\to H\\text{ a.e. point-wise}$, applying Theorem 2.4.10 (preliminary Fatou) we have \n",
    "$\\Big\\Vert f +  g\\big\\Vert_p^p =\\Big\\Vert H\\big\\Vert_1 \\leq \\liminf _{N\\to \\infty}\\Big\\Vert H_N\\big\\Vert_1 =  \\liminf _{N\\to \\infty}\\Big\\Vert {}^N f + {}^N g\\big\\Vert_p^p \\leq   \\Big( \\Big\\Vert f \\big\\Vert_p+\\Big\\Vert g \\big\\Vert_p\\Big)^p \\lt \\infty$  \n",
    "reading from Right to Left, since $\\liminf _{N\\to \\infty}\\Big\\Vert H_N\\big\\Vert_1 \\lt \\infty$ case (i) applies and the desired result follows by taking $p$th roots  \n"
   ]
  },
  {
   "cell_type": "code",
   "execution_count": null,
   "id": "68a036a3",
   "metadata": {},
   "outputs": [],
   "source": []
  },
  {
   "cell_type": "markdown",
   "id": "2e436e3a",
   "metadata": {},
   "source": [
    "**Lemma 3.3.3 (p. 133)**   \n",
    "To understand why $h(x):=\\frac{d\\big(x, G^C\\big)}{d\\big(x, F\\big)+ d\\big(x, G^C\\big)}$  is a well defined continuous function.  \n",
    "\n",
    "First, to understand why $d(x,F)$ and $d(x,G^c)$ are continuous ref ex 3.6(i) in McCleary. And 3.6(ii) tells us that $d(x,A)=0 \\iff x \\in \\overline A =\\text{cls }A$ and in this case $\\overline F =F$.  To see why the denominator can never be zero:  \n",
    "\n",
    "suppose $d\\big(x, F\\big)=0\\implies x \\in F$ and consider that $G\\supseteq F$ is an open covering of $F$ so for arbitrary $x \\in F$ there is some ball $B(x,\\delta^{(x)})\\subseteq G\\implies d\\big(x, G^C\\big)\\geq \\delta^{(x)}\\gt 0\\implies d\\big(x, F\\big)+ d\\big(x, G^C\\big)\\gt 0$.  And by non-negativity, of course, $d\\big(x, F\\big)\\gt 0$ implies the denominator is positive.  "
   ]
  },
  {
   "cell_type": "code",
   "execution_count": null,
   "id": "d6906c31",
   "metadata": {},
   "outputs": [],
   "source": []
  },
  {
   "cell_type": "markdown",
   "id": "cb447d50",
   "metadata": {},
   "source": [
    "**ex 3.6.1**   \n",
    "Let $C[a, b]$ be the set of functions that are continuous on $[a,b]$. Prove or disprove  \n",
    "$\\big\\Vert f\\big \\Vert_\\text{sup} = \\sup \\big\\{\\vert f(x)\\vert \\big\\vert x \\in[a,b]\\big\\} $  is a norm on $C[a,b]$.  \n",
    "The fact that it is positive definite is immediate and so is homogeneity with respect to positive re-scaling.  For triangle inequality, use sequences   \n",
    "\n",
    "$\\big\\Vert f+g\\big \\Vert_\\text{sup}= \\lim_{k\\to \\infty} \\vert f(x_k) +g(x_k)\\vert \\leq \\lim_{k\\to \\infty} \\vert f(x_k)\\vert  +\\vert g(x_k)\\vert \\leq \\big\\Vert f\\big \\Vert_\\text{sup}+\\big\\Vert g\\big \\Vert_\\text{sup}$  \n",
    "since $\\vert f(x_k)\\vert \\leq \\big\\Vert f\\big \\Vert_\\text{sup}$ and   $\\vert g(x_k)\\vert \\leq \\big\\Vert g\\big \\Vert_\\text{sup}$ for all $k$  \n",
    "\n",
    "note: we can actually avoid sequences here and re-write as  $\\big\\Vert f\\big \\Vert_\\text{sup} = \\max \\big\\{\\vert f(x)\\vert \\big\\vert x \\in[a,b]\\big\\} $ for reasons of continuity and compactness \n",
    "\n",
    "There is a technical nit here in that we should recall $C[a,b]$ is a quotient space as it is defined up to equivalence almost everywhere (necessary for the next exercise to make sense), though this is an odd formalism as $f=g$ a.e. implies $f=g$ everywhere for continuous functions on a connected set. E.g. suppose $y=\\vert f(v)- g(v)\\vert \\gt 0$ then $\\big[0,y\\big]$ is in the image of $\\vert f(v)- g(v)\\vert$ since continuity preserves connectivity hence $\\big(0,y\\big)$ has a non-empty pre-image under $\\vert f(v)- g(v)\\vert$, which is an open set (by continuity) and contains an closed ball with diameter $\\delta$ (metric space) hence contains a box (\"closed interval\") with diameter $\\delta$ so has positive measure (subset property), a contradiction.  "
   ]
  },
  {
   "cell_type": "markdown",
   "id": "ba4302ba",
   "metadata": {},
   "source": [
    "**ex 3.6.2**  \n",
    "Show that $C[0,1]\\subseteq L^1[0,1]$.  For reasons of compactness $f\\in C[0,1]\\implies  \\vert f \\vert$ is bounded and continuous so Riemann Integrable hence Lebesgue Integrable so $\\int_0^1 \\vert f\\vert$ exists.  \n",
    "\n",
    "Compare $\\big\\Vert f\\big\\Vert_\\text{sup}$ and $\\big\\Vert f\\big\\Vert_1$ and generalize to the interval $[a,b]$.  \n",
    "\n",
    "\n",
    "I assume this is for $C[0,1] \\cap L^1[0,1]=C[0,1]$ otherwise we may have $\\big\\Vert f\\big\\Vert_\\text{sup} = \\infty$ which is not a real number contradicting def 3.1.1. \n",
    "\n",
    "In general for $x\\in [a,b]$ if $\\vert f\\vert \\leq M$ (which e.g. could be the supremum) then $\\int_a^b \\vert f\\vert \\leq \\int_a^b M = (b-a)\\cdot M$ [Theorem 2.3.6].\n",
    "\n",
    "\n"
   ]
  },
  {
   "cell_type": "markdown",
   "id": "f3a9c3fc",
   "metadata": {},
   "source": [
    "**ex 3.6.3**  \n",
    "Prove Prop 3.1.2, that $f=g \\text{ a.e.}$ is an equivalence relation   \n",
    "*(i.)* self-reflexive $f=f \\text{ a.e.} \\iff f-f =0 \\text{ a.e.}$  \n",
    "*(ii.)* symmetric $g=f \\text{ a.e.} \\iff g-f =0 \\text{ a.e.}\\iff f-g =0 \\text{ a.e.}\\iff f=g \\text{ a.e.}$  \n",
    "where the middle implication comes from re-scaling by $-1$ which sends all $f(x)-g(x)=0\\to g(x)-f(x)=0$ and $f(x)-g(x)\\neq 0\\to g(x)-f(x)\\neq 0$  \n",
    "*(iii.)* transitive $f=g \\text{ a.e.}$ and $g=h \\text{ a.e.}\\implies (f(x)-g(x))-(g(x)-h(x)) = f(x)-h(x) =0$ for all $x\\in E_0^{(f,g)}\\cap  E_0^{(g,h)}$ and $f(x)-h(x)\\neq 0$ potentially in $\\big(E_0^{(f,g)}\\cap  E_0^{(g,h)}\\big)^C = \\big(E_0^{(f,g)}\\big)^C \\cup  \\big(E_0^{(g,h)}\\big)^C$ where $m^*\\big(\\big(E_0^{(f,g)}\\big)^C \\cup  \\big(E_0^{(g,h)}\\big)^C\\Big)\\leq m\\Big(\\big(E_0^{(f,g)}\\big)^C\\Big) + m\\Big(  \\big(E_0^{(g,h)}\\big)^C\\Big) =0 +0 $"
   ]
  },
  {
   "cell_type": "markdown",
   "id": "7b719b21",
   "metadata": {},
   "source": [
    "**ex 3.6.4**  \n",
    "Determine whether or not each of the following is a Cauchy sequence $\\in L^1[0,1]$  \n",
    "\n",
    "**(a.)** $f_n(x) = n \\cdot \\mathcal X_{\\left(\\frac{1}{n+1}, \\frac{1}{n}\\right]}(x)$   \n",
    "$n\\cdot\\int_0^1 \\mathcal X_{\\left(\\frac{1}{n+1}, \\frac{1}{n}\\right]} = n\\cdot\\left(\\frac{1}{n}-\\frac{1}{n+1}\\right)= n\\cdot\\frac{1}{n(n+1)}=\\frac{1}{n+1} $\n",
    "\n",
    "for any $\\epsilon \\gt 0$, consider, $n, m \\geq N$ (and apply triangle inequality)  \n",
    "$ \\big \\Vert f_n - f_m\\big \\Vert\\leq  \\big \\Vert f_n\\big \\Vert + \\big \\Vert f_m\\big \\Vert = \\frac{1}{n+1}+\\frac{1}{m+1}\\leq \\frac{2}{N+1}\\lt \\epsilon$  for $N$ large enough, so this is Cauchy  \n",
    "\n",
    "\n",
    "**(b.)** $f_n(x) = \\frac{1}{x} \\cdot \\mathcal X_{\\left[\\frac{1}{n+1}, 1\\right]}(x)$   \n",
    "for $n\\geq m \\geq N$ we have  \n",
    "$f_m(x)-f_n(x) = \\frac{1}{x}\\big(\\mathcal X_{\\left[\\frac{1}{m+1}, 1\\right]}(x)-\\mathcal X_{\\left[\\frac{1}{n+1}, 1\\right]}(x) \\big)=_\\text{ a.e.} \\frac{1}{x}\\big(\\mathcal X_{\\left[\\frac{1}{n+1}, \\frac{1}{m+1}\\right]}(x)\\big)$  \n",
    "$x \\in [0,1] \\implies \\vert f_m(x)-f_n(x)\\vert = \\frac{1}{x}\\big(\\mathcal X_{\\left[\\frac{1}{n+1}, \\frac{1}{m+1}\\right]}(x)\\big)$  \n",
    "$\\implies \\int_0^1 \\vert f_m(x)-f_n(x)\\vert = \\int_{\\frac{1}{n+1}}^{\\frac{1}{m+1}}\\frac{1}{x} = \\log\\Big(\\frac{1}{m+1}\\Big)-\\log\\Big(\\frac{1}{n+1}\\Big)=\\log\\Big(\\frac{n+1}{m+1}\\Big)$  but for any choice of $N$ and selection of $m\\geq N$, numerator may be made arbitrarily large hence $\\log\\Big(\\frac{n+1}{m+1}\\Big)\\to \\infty$ as $n\\to\\infty$.  Conclude the sequence is not Cauchy.  \n",
    "\n",
    "**(c.)** $f_n(x) = \\frac{1}{\\sqrt{x}} \\cdot \\mathcal X_{\\left[\\frac{1}{n+1}, 1\\right]}(x)$   \n",
    "for $n\\geq m \\geq N$ we have   by essentially the same manipulations as in (b.) we get   \n",
    "$\\implies \\int_0^1 \\vert f_m(x)-f_n(x)\\vert = \\int_{\\frac{1}{n+1}}^{\\frac{1}{m+1}}\\frac{1}{\\sqrt {x}} =  2\\cdot\\Big( \\sqrt{\\frac{1}{m+1}}-\\sqrt{\\frac{1}{n+1}}\\Big)\\leq 2\\cdot \\sqrt{\\frac{1}{m+1}}$  \n",
    "where the RHS may be made arbitrarily small by choosing $N$ large enough  \n"
   ]
  },
  {
   "cell_type": "code",
   "execution_count": null,
   "id": "40062453",
   "metadata": {},
   "outputs": [],
   "source": []
  },
  {
   "cell_type": "markdown",
   "id": "5cfba245",
   "metadata": {},
   "source": [
    "**ex 3.6.5**  \n",
    "Let $p\\gt 1$.  Show that $C[0,1]\\subseteq L^p[0,1]$. Similar to exercise 2, for reasons of compactness $f\\in C[0,1]$ is bounded and continuous and so is $\\vert f\\vert^p$ which is Riemann and Lebesgue Integrable so $\\int_0^1 \\vert f\\vert^p$ exists and so does its $p$th root.  \n",
    "\n",
    "Compare $\\big\\Vert f\\big\\Vert_\\text{sup}$ and $\\big\\Vert f\\big\\Vert_p$ and generalize to the interval $[a,b]$.  \n",
    "\n",
    "\n",
    "In general for $x\\in [a,b]$ if $\\vert f\\vert \\leq M$ (which e.g. could be the supremum) then $\\int_a^b \\vert f\\vert^p \\leq \\int_a^b M^p = (b-a)\\cdot M^p\\implies \\big\\Vert f\\big\\Vert_p\\leq (b-a)^\\frac{1}{p} \\cdot M$  \n"
   ]
  },
  {
   "cell_type": "markdown",
   "id": "31832c3b",
   "metadata": {},
   "source": [
    "**ex 3.6.6**  \n",
    "Show that $f(x)=x^\\frac{-1}{3}\\in L^2[0,1]$ but $g(x)=f(x)^2 \\not\\in L^2[0,1]$  \n",
    "\n",
    "This result is implied by ex 3.6.7 "
   ]
  },
  {
   "cell_type": "markdown",
   "id": "ac619f61",
   "metadata": {},
   "source": [
    "**ex 3.6.7** \n",
    "Let $f(x)=x^\\alpha$ on $[0,1]$.  Show that $f\\in L^p[0,1]$ *iff* $\\alpha \\gt \\frac{-1}{p}$.  \n",
    "\n",
    "First, if $\\alpha =\\frac{-1}{p}$ then recall example 2.3.2 (p.81) which shows the integral does not exist.  \n",
    "\n",
    "If $\\alpha \\lt \\frac{-1}{p}$ then $\\vert f(x)\\vert^p \\geq x^{-1}\\text { a.e.}$  so the result follows by integrating over the bound [more technically, using truncation, applying Theorem 2.3.6 and then taking a limit as $N\\to \\infty$ to show the integral does not converge]  \n",
    "\n",
    "Finally if $\\alpha \\gt \\frac{-1}{p}$  \n"
   ]
  },
  {
   "cell_type": "markdown",
   "id": "85ba39fc",
   "metadata": {},
   "source": [
    "**3.6.8**  \n",
    "Let $p\\gt 1$.  Show the $L^P[a,b]\\subseteq L^1[a,b]$ and $L^P[a,b]\\not\\supseteq  L^1[a,b]$  \n",
    "\n",
    "$L^P[a,b]\\not\\supseteq  L^1[a,b]$  holds by the prior exercise, e.g. for some $p\\gt 1$ consider $g(x) = x^\\frac{-1}{p}$ and $T$ be the degree one polynomial with $T(a)=0$ and $T(b)=1$; then $f:= g\\circ T$ and $f\\in L^1[a,b]$ but $\\int_a^b \\vert f\\vert^p = \\infty$ so $f\\not\\in L^p[a,b]$  \n",
    "\n",
    "- - - -  \n",
    "\n",
    "$L^P[a,b]\\subseteq L^1[a,b]$ holds because for $f \\in L^P[a,b]$ then $\\vert f(x)\\vert \\leq \\vert f(x)\\vert^p$ when $\\vert f(x)\\vert\\leq 1$ thus $\\vert f(x)\\vert \\leq 1+ \\vert f(x)\\vert^p$ so $\\int_a^b \\vert f(x)\\vert \\lt \\infty$ [e.g. Dominated Convergence or its warmup, Lemma 2.4.5]  \n",
    "\n",
    "The above argument relies on the fact that $[a,b]$ has finite measure.  A more succinct and explicit way to make the argument is to observe via H&ouml;lder's Inequality( with $p,q \\gt 1$ and $\\frac {1}{p}+\\frac{1}{q}=1$) that  \n",
    "$\\int_a^b \\vert f\\vert dm =\\int_a^b 1\\cdot \\vert f\\vert dm\\leq \\left(\\int_a^b 1^q dm \\right)^\\frac{1}{q}\\cdot \\left(\\int_a^b  \\vert f\\vert^p dm\\right)^\\frac{1}{p}=m\\big([a,b]\\big)^\\frac{1}{q}\\cdot\\left(\\int_a^b \\vert f\\vert^p dm\\right)^\\frac{1}{p}=m\\big(b-a\\big)^\\frac{1}{q}\\cdot\\left(\\int_a^b  \\vert f\\vert^p dm\\right)^\\frac{1}{p} $  \n",
    "\n",
    "Where we may proceed by truncating $f$ as in the proof of Minkowski at the top of this notebook, if we want to be extra-cautious.  If instead we wanted to directly apply the definition of integration from chapter 4, we'd have  \n",
    " $\\begin{align}\\int_a^b \\vert f\\vert dm =\\sup\\left \\{\\int \\phi d m \\big\\vert \\phi\\text{ is simple with }0\\leq \\phi \\leq  \\vert f\\vert \\right\\}=\\lim_{n\\to\\infty}\\int_a^b \\phi_n \\leq m\\big([a,b]\\big)^\\frac{1}{q}\\cdot \\left(\\lim_{n\\to\\infty}\\int_a^b \\phi_n^p\\right)^\\frac{1}{p}\\leq m\\big([a,b]\\big)^\\frac{1}{q}\\cdot\\left(\\int_a^b \\vert f\\vert^p dm\\right)^\\frac{1}{p}\\end{align}$\n",
    "\n",
    "hence $\\vert f\\vert$ is integrable and $f\\in L^1[a,b]$   \n",
    "\n",
    "\n",
    "Note the types of arguments *do not work* when dealing with domains having infinite measure--- e.g. $f(x) =\\frac{1}{x}$ for $x \\in [1,\\infty)$ and $=0$ elsewhere.  Then $f\\in L^2[1,\\infty)$ but  $f\\not\\in L^1[1,\\infty)$   \n"
   ]
  },
  {
   "cell_type": "markdown",
   "id": "4b34d819",
   "metadata": {},
   "source": [
    "**ex 3.6.9**  \n",
    "Let $f,g:[a,b]\\longrightarrow \\mathbb R$ be measurable functions.  Show that if $f\\leq g\\text{ a.e.}$ then  \n",
    "$ \\text{ess sup}_{x \\in [a,b]} f \\leq \\text{ess sup}_{x \\in [a,b]}g$  \n",
    "\n",
    "recall Def 3.2.9 on page 129  \n",
    "$\\text{ess sup}_{x \\in [a,b]} f = \\inf\\big\\{\\alpha \\vert f(x)\\leq \\alpha \\text{ a.e}\\big\\}$  \n",
    "i.e. it's a supremum modulo a set of measure zero  \n",
    "\n",
    "- - - - -  \n",
    "let $\\alpha = \\text{ess sup}_{x \\in [a,b]} f(x)$ and $\\beta = \\text{ess sup}_{x \\in [a,b]} g(x)$ and let $A$ be the set with $f(x)\\gt \\alpha$ for $x \\in A$ and let $B$ be the set with $f(x)\\gt \\beta$ for $x \\in B$.  Finally let $C$ be the set where $f(x)\\gt g(x)$ for $x \\in C$.  And of course $m\\big((A\\cup B\\cup C)\\big) \\leq m(A)+m(B)+m(C) =0 $    \n",
    "$E:=[a,b]-A-B-C=(A\\cup B\\cup C)^C$  \n",
    "\n",
    "for $x \\in E$ we have $f(x)\\leq g(x)$  \n",
    "There is a sequence $x_k\\in E$ such that  $\\text{sup}_{x \\in E} f(x)= \\lim_{k\\to \\infty} f(x_k)$ and \n",
    "$f(x_k) \\leq \\alpha = \\text{ess sup}_{x \\in [a,b]} f(x)$ by construction $\\implies \\text{sup}_{x \\in E} f(x) \\leq \\alpha$ but (if strict) $\\text{sup}_{x \\in E} f(x) \\lt \\alpha$  $ \\implies f(x) \\leq \\alpha'\\lt \\alpha \\text{ a. e. for }x \\in [a,b]$ contradicting the fact that $\\alpha$ was chosen to be the infimum value holding almost everywhere.  Conclude $\\alpha = \\text{sup}_{x \\in E} f(x)$.  Putting this together yields    \n",
    "\n",
    "$\\text{ess sup}_{x \\in [a,b]} f(x) = \\alpha = \\text{sup}_{x \\in E} f(x)= \\lim_{k\\to \\infty} f(x_k)\\leq \\text{ess sup}_{x \\in [a,b]} g(x)$  \n",
    "where the inequality holds because for all $x_k \\in E$ we have $f(x_k^{(f)})\\leq g(x_k^{(f)})\\leq \\beta=  \\text{ess sup}_{x \\in [a,b]} g$  \n",
    "\n",
    "\n",
    "**remark:** $f$ and $g$ being measurable is not needed for the problem though it is part of the definition of being in $L^\\infty[a,b]$  "
   ]
  },
  {
   "cell_type": "markdown",
   "id": "97e39ecf",
   "metadata": {},
   "source": [
    "**ex 3.6.10**  \n",
    "Show $f \\in L^\\infty[a,b]$ *iff* $\\vert f \\vert \\in L^\\infty[a,b]$  \n",
    "\n",
    "\n",
    "$f \\in L^\\infty[a,b] \\implies \\vert f \\vert \\in L^\\infty[a,b]$  \n",
    "checking def 3.2.12 (p. 130), this means $f$ is measurable and $\\text{ess sup}_{x \\in [a,b]} \\vert f(x)\\vert =\\alpha \\lt \\infty$ so up to a set of measure zero $f$ is bounded and measurable so $f\\in \\mathcal L[a,b]$. For avoidance of doubt, let $F(x) := f(x)$ when $\\vert f(x)\\vert \\leq \\alpha$ and $F(x):=\\alpha $ when $f(x) \\gt \\alpha$ and $F(x):=-\\alpha$ when $f(x) \\lt -\\alpha$.  $F$ is measurable since $f$ is; i.e. the set $E_f =\\big\\{x \\vert f(x)\\geq s \\big\\}$ is measurable for arbitrary $s$ and *(i)* if $s\\in\\big(-\\alpha, \\alpha\\big]$ then $E_F=E_f$, *(ii)* if $s\\leq \\alpha$ then $E_f \\subseteq E_F = E_f  \\cup (E_F \\cap  E_f^C)\\implies E_F$ is measurable since $m\\big(E_f^C\\big)=0$ so $E_F$ is the union of two measurable sets and *(iii)* if $s \\gt \\alpha$ then $E_F = \\big\\{\\big\\}$ which is measurable with measure zero.  Thus $F$ is bounded and measurable so $F\\in \\mathcal L[a,b] \\iff F^+, F^-\\in \\mathcal L[a,b] \\implies  F^+ + F^- =\\vert F \\vert \\in \\mathcal L[a,b]$  and   $\\vert f(x)\\vert \\leq \\vert F(x) \\vert \\text{ a.e.}$ so by Dominated Convergence (or its warm-up Lemma 2.4.5)  \n",
    "$f, \\vert f\\vert \\in \\mathcal L[a,b]$ hence $\\vert f\\vert$ is measurable with $\\text{ess sup}_{x \\in [a,b]} \\vert f(x)\\vert =\\alpha \\lt \\infty$ i.e. $\\vert f\\vert \\in L^{\\infty}[a,b]$  \n",
    "\n",
    "$\\vert f \\vert \\in L^\\infty[a,b]  \\implies f \\in L^\\infty[a,b]$  \n",
    "**This is False**.  Ref the construction in the proof of prop 3.8 on page 73 of Capinski & Kopp:  \n",
    "let $A\\subseteq [a,b]$ be a non-measurable set (e.g. it could be the one from section 1.3) and define  \n",
    "$f:= \\mathcal X_A -\\mathcal X_{A^C}$ which takes values $\\in \\big\\{-1, 1\\big\\}$ and $\\vert f\\vert =1$ so it is measurable but $\\big\\{x\\vert f(x)\\gt 0\\big\\}=\\big\\{x\\vert \\mathcal X_A(x)\\gt 0\\big\\}$ which is not measurable [recall ex 2.6.1].  \n",
    "\n"
   ]
  },
  {
   "cell_type": "markdown",
   "id": "bb46948e",
   "metadata": {},
   "source": [
    "**ex 3.6.11**  \n",
    "Let $p\\geq 1$.  Show that $L^\\infty[a,b] \\subseteq L^p[a,b]$  \n",
    "\n",
    "Making use of the (valid portion of the) prior exercise if $f \\in L^\\infty[a,b]$ then $\\vert f\\vert \\in L^\\infty[a,b]$ \n",
    "and $\\text{ess sup}_{x \\in [a,b]} \\vert f(x)\\vert^p = \\Big(\\text{ess sup}_{x \\in [a,b]} \\vert f(x)\\vert\\Big)^p \\lt \\infty$.  Since $E_{\\vert f\\vert} =\\big\\{x \\big\\vert \\vert f(x)\\vert \\gt s \\big\\}$ is measurable for any $s \\in\\mathbb R$, and in particular for *(i.)* for $s\\leq 0$ we trivially have $\\big\\{x \\big\\vert \\vert f(x)\\vert \\gt s \\big\\} = [a,b]=\\big\\{x \\big\\vert \\vert f(x)\\vert^p \\gt s \\big\\}$ and *(ii.)* for $s \\gt 0$ we know $\\big\\{x \\big\\vert \\vert f(x)\\vert \\gt s \\big\\} =\\big\\{x \\big\\vert \\vert f(x)\\vert^p \\gt s^p \\big\\}$ where the map $h: \\mathbb R_{\\gt 0}\\rightarrow \\mathbb R_{\\gt 0}$ given by $h(x)=  x^p$ for $p\\geq 1$ is a bijective map to itself since it is continuous and injective [ref $f'(x)\\gt 0$]  and surjective [$x \\leq x^p$ for $x\\geq 1$ so it is unbounded\n",
    "and $x_k \\to 0\\implies f(x_k)\\to 0$, so it has no minimum or maximum and by continuity its image is connected]; thus for case (ii) write any $s'\\gt 0$ as $s^p$ to confirm measurability.  Thus we've verified $\\vert f\\vert^p$ is measurable, i.e. $\\vert f\\vert^p \\in L^\\infty[a,b]$ which implies $\\vert f\\vert^p  \\in \\mathcal L[a,b]$ as shown in part 1 of the prior exercise (by constructing dominating $F$). Conclude $f\\in L^p[a.b]$.  "
   ]
  },
  {
   "cell_type": "markdown",
   "id": "e8f18625",
   "metadata": {},
   "source": [
    "**ex 3.6.12**  \n",
    "verify that $L^\\infty[a,b]$ is a vector space  \n",
    "\n",
    "Let $f,g \\in L^\\infty[a,b]$ and $c \\in \\mathbb R$  \n",
    "**(a.)**  show that $c\\dot f \\in L^\\infty[a,b]$   \n",
    "the result trivially holds when $c=0$ so assume $c\\neq 0$  \n",
    "\n",
    "Let $S= \\big\\{ x,\\big\\vert \\vert f(x)\\vert \\gt \\alpha_f\\big\\}$ with $\\alpha_f=\\text{ess sup}_{x \\in [a,b]} \\vert f \\vert$ and $m\\big(S\\big)=0$ by definition. \n",
    "$ \\text{ess sup}_{x \\in [a,b]} \\vert c \\cdot f \\vert \\leq \\sup_{x \\in S^C} \\vert c\\cdot f(x)\\vert =\\vert c\\vert\\cdot \\sup_{x \\in S^C} \\vert f(x)\\vert =\\vert c\\vert\\cdot\\text{ess sup}_{x \\in [a,b]} \\vert f \\vert$  \n",
    "see \"in words\" under (b) for an explanation of the 1st inequality, the 1st equality comes from intro real-analysis (e.g. via sequences and continuity of scalar multiplication) and the final equality is by construction/definition.  \n",
    "\n",
    "for the next exercise we can run this the other direction to get:  \n",
    "$S= \\big\\{ x,\\big\\vert \\vert c\\cdot f(x)\\vert \\gt \\alpha_{cf}\\big\\}$ with $\\alpha_{cf}=\\text{ess sup}_{x \\in [a,b]} \\vert c\\cdot f \\vert$ and $m\\big(S\\big)=0$ by definition. \n",
    "$ \\text{ess sup}_{x \\in [a,b]} \\vert  f \\vert \\leq \\sup_{x \\in S^C} \\vert \\frac{c}{c}\\cdot f(x)\\vert =\\vert \\frac{1}{c}\\vert\\cdot \\sup_{x \\in S^C} \\vert c \\cdot f(x)\\vert =\\frac{1}{\\vert c\\vert}\\cdot\\text{ess sup}_{x \\in [a,b]} \\vert c\\cdot f \\vert$  \n",
    "which yields:  \n",
    "$\\text{ess sup}_{x \\in [a,b]} \\vert  c\\cdot f \\vert\\leq  \\vert c\\vert \\cdot\\text{ess sup}_{x \\in [a,b]} \\vert  f \\vert\\leq \\text{ess sup}_{x \\in [a,b]} \\vert  c\\cdot f \\vert$\n",
    "\n",
    "**(b.)**  show that $f+g \\in L^\\infty[a,b]$  \n",
    "$f+g$ is measurable (Theorem 2.1.6). Now we must verify $\\text{ess sup}_{x \\in [a,b]} \\vert f(x)+g(x)\\vert \\lt \\infty$.  \n",
    "Let $S_f, S_g = \\big\\{ x,\\big\\vert \\vert f(x)\\vert \\gt \\alpha_f\\big\\},  \\big\\{ x,\\big \\vert \\vert g(x)\\vert \\gt \\alpha_g\\big\\}$, with $\\alpha_f$, $\\alpha_g$ the respective essential supremums of $\\vert f\\vert $, $\\vert g\\vert $. And let $S=S_f\\cap S_g$ and of course $m\\big(S\\big) \\leq m\\big(S_f\\big)=0=m\\big(S_g\\big)$.  \n",
    "\n",
    "for $x\\in S^C$: $\\vert f(x)+g(x)\\vert \\leq   \\vert f(x)\\vert +\\vert g(x)\\vert \\leq \\alpha_f + \\alpha_g $  hence  \n",
    "$\\big\\Vert f + g\\big\\Vert_\\infty =\\text{ess sup}_{x \\in [a,b]} \\vert f +g \\vert = \\inf \\Big\\{\\alpha \\big\\vert \\vert f(x) + g(x)\\vert \\leq \\alpha \\text{  a.e.}\\Big\\} \\leq \\sup_{x \\in S^C} \\vert f(x)+g(x)\\vert \\leq \\alpha_f + \\alpha_g =\\big\\Vert f \\big\\Vert_\\infty + \\big\\Vert  g\\big\\Vert_\\infty\\lt \\infty$  \n",
    "$\\implies f+g \\in L^\\infty[a,b]$  \n",
    "*In words:* the first inequality is the tightest upper bound that holds almost everywhere which is bounded above by any upper bound that holds almost everywhere.  \n",
    "\n"
   ]
  },
  {
   "cell_type": "markdown",
   "id": "d114c251",
   "metadata": {},
   "source": [
    "**ex 3.6.13**  \n",
    "show that $\\big\\Vert \\cdot \\big\\Vert_\\infty$ is a norm on $L^\\infty[a,b]$  \n",
    "Positive definiteness is immediate.  Homogeneity with respect to positive rescaling is proven in ex 3.6.12(a). Triangle inequality was proven in ex 3.6.12(b). \n",
    "\n",
    "\n"
   ]
  },
  {
   "cell_type": "markdown",
   "id": "1b44c50e",
   "metadata": {},
   "source": [
    "**ex 3.6.14**  \n",
    "the answer is given in more generality via exercise 20"
   ]
  },
  {
   "cell_type": "markdown",
   "id": "83d4dbbf",
   "metadata": {},
   "source": [
    "**ex 3.6.15**  \n",
    "determine whether or not each  of the following is a Cauchy sequence in $L^2[0,\\infty)$  \n",
    "\n",
    "**(a.)** $f_n(x) = \\mathcal X_{\\left[n, n+1\\right]}(x)$   \n",
    "for $n\\gt m$ note that $f_n\\cdot f_m =_\\text{a.e.} 0$ so  \n",
    "$\\big\\Vert f_n-f_m\\big\\Vert_2^2 = \\big\\Vert f_n\\big\\Vert_2^2 +\\big\\Vert f_m\\big\\Vert_2^2=\\big\\Vert f_n\\big\\Vert_2 +\\big\\Vert f_m\\big\\Vert_2 = 1 + 1$  \n",
    "(ref e.g. some of the development in ex 3.6.21 for the 1st equality)   \n",
    "which cannot be made arbitrarily small so is not Cauchy   \n",
    "\n",
    "**(b.)** $f_n(x) = \\frac{1}{x} \\cdot \\mathcal X_{\\left[1 , n\\right]}(x)$   \n",
    "for $n\\gt m \\geq N$ we have $f_n(x) - f_m(x) =_\\text{a.e.} \\frac{1}{x}\\cdot\\mathcal X_{\\left[m,n\\right]}(x)$  \n",
    "$\\implies\\big\\Vert f_n(x)-f_m(x)\\big\\Vert_2^2= \\int_0^\\infty \\frac{1}{x^2}\\cdot\\mathcal X_{\\left[m,n\\right]}(x) = \\int_m^n \\frac{1}{x^2}=\\frac{-1}{n}-\\frac{-1}{m}\\lt \\frac{1}{m}$  \n",
    "which may be made arbitrarily small by choosing $N$ large enough.  Conclude this sequence is Cauchy.  \n",
    "\n",
    "**(c.)** $f_n(x) = \\frac{1}{x^2} \\cdot \\mathcal X_{\\left[1 , n\\right]}(x)$      \n",
    "for $n\\gt m \\geq N$ we have $f_n(x) - f_m(x) =_\\text{a.e.} \\frac{1}{x^2}\\cdot\\mathcal X_{\\left[m,n\\right]}(x)$  \n",
    "$\\implies\\big\\Vert f_n(x)-f_m(x)\\big\\Vert_2^2= \\int_0^\\infty \\frac{1}{x^4}\\cdot\\mathcal X_{\\left[m,n\\right]}(x) = \\int_m^n \\frac{1}{x^4}=\\frac{1}{3}\\big(\\frac{-1}{n^3}-\\frac{-1}{m^3}\\lt \\frac{1}{n^3}\\lt \\frac{1}{m}$  \n",
    "which is Cauchy as with (b.)  \n"
   ]
  },
  {
   "cell_type": "markdown",
   "id": "6d2d8c66",
   "metadata": {},
   "source": [
    "**ex 3.6.16**  \n",
    "Let $1\\leq p\\lt \\infty$ and let $\\big\\{f_n\\big\\}$ be a sequence of functions in $L^p[a,b]$.  Suppose there is a function $f\\in L^[a,b]$ with $\\lim_{n\\to \\infty}\\big\\Vert f_n - f\\big\\Vert_p=0$.  Prove that  $\\big\\{f_n\\big\\}$ is a Cauchy sequence in $L^p[a,b]$.  \n",
    "\n",
    "the Cauchy criterion is for any $\\epsilon \\gt 0$,  \n",
    "$\\big\\Vert f_n - f_m\\big\\Vert_p \\lt \\epsilon$ when $m, n\\gt N$  \n",
    "\n",
    "by definition of the original limit we have  \n",
    "$\\big\\Vert f_k - f\\big\\Vert_p\\lt \\frac{\\epsilon}{2}$ for all $k\\gt N$ hence for $m,n \\gt N$   \n",
    "\n",
    "$\\big\\Vert f_n - f_m\\big\\Vert_p = \\big\\Vert (f_n  - f) + (f- f_m)\\big\\Vert_p\\leq \\big\\Vert f_n  - f\\big\\Vert_p + \\big\\Vert f- f_m\\big\\Vert_p\\lt \\frac{\\epsilon}{2}+\\frac{\\epsilon}{2} = \\epsilon$  \n"
   ]
  },
  {
   "cell_type": "markdown",
   "id": "83325d8b",
   "metadata": {},
   "source": [
    "**ex 3.6.17**  \n",
    "Prove that $L^\\infty[a,b]$ is complete with respect to the norm $\\big\\Vert \\cdot \\big \\Vert_\\infty$.  \n",
    "\n",
    "Since $L^\\infty[a,b]\\subseteq L^1 [a,b]$ (ex 3.6.11) we know that every Cauchy sequence $\\big\\{f_n\\big\\}$ converges to an element $f\\in L^1 [a,b]$.  The key result is for any $\\epsilon \\gt 0$   \n",
    "$\\big\\Vert f_n-f_m\\big\\Vert_\\infty \\lt \\epsilon\\implies \\big\\Vert f_n-f_m\\big\\Vert_1 \\leq (b-a)\\cdot \\big\\Vert f_n-f_m\\big\\Vert_\\infty\\lt (b-a)^\\frac{1}{p}\\cdot\\epsilon$  \n",
    "(small modification, this is essentially *ex 3.6.2*)    \n",
    "\n",
    "Per Def 3.2.1 (definition of $L^p[a,b]$) since $f \\in L^1[a,b]$ it is measurable.  *It remains to show* $\\text{ess sup}_{x \\in [a,b]} \\vert f \\vert \\lt \\infty$.  Select some $\\epsilon \\gt 0$ and for all $n,m \\geq N$ we have  \n",
    "$\\Big\\vert\\big\\Vert f_n \\big\\Vert_\\infty- \\big\\Vert f_m\\big\\Vert_\\infty \\Big\\vert\\leq \\big\\Vert f_n-f_m\\big\\Vert_\\infty \\lt \\epsilon$  \n",
    "\n",
    "and setting $m:=N$ this tells us all $f_n$ are bounded $\\text{ a..e. }$ by $K:= \\big\\Vert f_N\\big\\Vert_\\infty + \\epsilon$  for $n \\geq M$.  \n",
    "Define (measurable) $ A:= \\big\\{x\\big\\vert \\vert f(x)\\vert \\gt 2\\cdot K\\big\\}$ and observe \n",
    "\n",
    "$K \\cdot \\mathcal X_A \\leq_\\text{ a.e. } \\vert f(x)\\vert -\\vert f_n(x)\\vert \\cdot \\mathcal X_A   \\leq_\\text{ a.e. } \\vert f(x) -f_n(x)\\vert \\cdot \\mathcal X_A  \\leq_\\text{ a.e. } \\vert f(x)-f_n(x)\\vert$  \n",
    "\n",
    "$\\implies K \\cdot m\\big(A\\big)= K \\cdot \\int_a^b  \\mathcal X_A\\leq \\int_a^b \\big( \\vert f(x)\\vert -\\vert f_n(x)\\vert \\big)\\cdot \\mathcal X_A   \\leq  \\int_a^b \\vert f(x) -f_n(x)\\vert \\cdot \\mathcal X_A  \\leq \\big\\Vert f-f_n\\big\\Vert_1 \\lt \\epsilon$  \n",
    "but $\\epsilon$ may be made arbitrarily small so $m\\big(A\\big)=0$  \n"
   ]
  },
  {
   "cell_type": "markdown",
   "id": "ccfa7d48",
   "metadata": {},
   "source": [
    "**ex 3.6.18**  \n",
    "with $f \\in L^1[a,b]$ prove *Tchebychev's Inequality*  \n",
    "**remark:** though they are closely related, this actually appears to be Markov's Inequality  \n",
    "\n",
    "$A:=\\big\\{x \\in [a,b]\\big \\vert \\vert f(x)\\vert \\gt \\alpha\\big\\}$ \n",
    "for some $\\alpha \\gt 0$.  The set is measurable since $\\vert f \\vert $ is.  \n",
    "\n",
    "we have the point-wise bound $\\mathcal X_A \\leq \\frac{\\vert f\\vert}{\\alpha}\\text{ a. e.}$  \n",
    "and integrate over the bound (e.g. Theorem 2.3.9 & Theorem 2.3.5) to get  \n",
    "\n",
    "$m\\Big(\\big\\{x \\in [a,b]\\big \\vert \\vert f(x)\\vert \\gt \\alpha\\big\\}\\Big) = m\\big(A\\big)=\\int_a^b \\mathcal X_A \\leq \\int_a^b \\frac{\\vert f\\vert}{\\alpha} = \\frac{1}{\\alpha} \\int_a^b \\vert f\\vert = \\frac{1}{\\alpha} \\cdot \\big \\Vert f \\big\\Vert_1 $  \n",
    "\n"
   ]
  },
  {
   "cell_type": "markdown",
   "id": "b9402c8b",
   "metadata": {},
   "source": [
    "**ex 3.6.19**  \n",
    "with $f \\in L^p[a,b]$ prove a different form of *Tchebychev's Inequality*  \n",
    "$m\\Big(\\big\\{x \\in [a,b]\\big \\vert \\vert f(x)\\vert \\gt \\alpha\\big\\}\\Big) = m\\big(A\\big)=\\int_a^b \\mathcal X_A \\leq \\int_a^b \\frac{\\vert f\\vert^p}{\\alpha^p} = \\frac{1}{\\alpha^p} \\int_a^b \\vert f\\vert^p = \\frac{1}{\\alpha^p} \\cdot \\big \\Vert f \\big\\Vert_p^p $  \n",
    "\n",
    "which holds as before by observing a point-wise bound  \n",
    "$\\mathcal X_A \\leq \\Big(\\frac{\\vert f\\vert}{\\alpha}\\Big)^p\\text{ a. e.}$  \n",
    "and integrating over the bound  "
   ]
  },
  {
   "cell_type": "markdown",
   "id": "3d2c53be",
   "metadata": {},
   "source": [
    "**ex 3.6.20**  \n",
    "Prove Proposition 3.4.10: Let $V$ be an inner product space with induced norm $\\big\\Vert v\\big\\Vert =\\sqrt{\\langle v,v\\rangle}$, then for every $v,w \\in V$   \n",
    "\n",
    "$ \\big\\Vert v+w \\big\\Vert^2 + \\big\\Vert v-w\\big\\Vert^2 = \\langle v+w, v+w\\rangle +\\langle v-w, v-w\\rangle = \\langle v, v+w\\rangle + \\langle w, v+w\\rangle +\\langle v, v-w\\rangle- \\langle w, v-w\\rangle$  \n",
    "$\\langle v, v\\rangle +\\Big(\\langle v, w\\rangle +  \\langle w, v\\rangle\\Big) + \\langle w, w\\rangle +\\langle v, v\\rangle + \\Big(- \\langle v, w\\rangle - \\langle w, v\\rangle\\Big) + \\langle w, w\\rangle  = 2 \\cdot \\big\\Vert v \\big\\Vert^2 + 2 \\cdot \\big\\Vert w \\big\\Vert^2$  "
   ]
  },
  {
   "cell_type": "code",
   "execution_count": null,
   "id": "c1d386bb",
   "metadata": {},
   "outputs": [],
   "source": []
  },
  {
   "cell_type": "markdown",
   "id": "792c5df4",
   "metadata": {},
   "source": [
    "fix $v \\in \\mathbb R^n$  \n",
    "$\\langle v, w\\rangle =0$ for every $w\\in\\mathbb Q^n$  \n",
    "$\\big \\Vert v-w\\big\\Vert_2\\lt \\epsilon$   "
   ]
  },
  {
   "cell_type": "code",
   "execution_count": null,
   "id": "36471ced",
   "metadata": {},
   "outputs": [],
   "source": []
  },
  {
   "cell_type": "markdown",
   "id": "8beb26a3",
   "metadata": {},
   "source": [
    "**ex 3.6.21**  \n",
    "Let $f\\in L^2[a,b]$.  If  \n",
    "$\\langle f,g\\rangle = \\int_a^b f\\cdot g = 0$  \n",
    "for every $g \\in C[a,b]$ show $f=0 \\text{ a.e. }$ in $[a,b]$  \n",
    "\n",
    "for any $\\epsilon\\in (0,1)$ we may apply Theorem 3.3.5 to get $g \\in C[a,b]$ such that  $\\big \\Vert f-g\\big\\Vert_2\\lt \\epsilon$   \n",
    "$\\implies \\big \\Vert f\\big\\Vert_2^2 \\leq \\big \\Vert f\\big\\Vert_2^2 +0+ \\big \\Vert g\\big\\Vert_2^2 +0 =  \\langle f,f\\rangle -\\langle f,g\\rangle+ \\langle g,g\\rangle -\\langle g,f\\rangle=\\langle f-g,f-g\\rangle =  \\big \\Vert f-g\\big\\Vert_2^2\\lt \\epsilon^2\\lt \\epsilon$  \n",
    "$\\implies \\big \\Vert f\\big\\Vert_2^2=0\\iff f =0 \\text{ a. e.}$  \n",
    "(recall the positive definiteness of a norm on $L^2[a,b]$)  \n",
    "\n",
    "**strengthening the claim:**  \n",
    "with some cleverness we can actually show this result holds even if we only know $f\\in L^1[a,b]$.  Let $E_j$ for $j\\in \\mathbb N$ be the set where $\\big\\{x: f(x)\\gt \\frac{1}{j}\\big\\}$ and select some $\\epsilon \\gt 0$ and carefully construct $g:=h$ from Lemma 3.3.3 where we have closed $F$ and open $G\\subseteq (a,b)$ satisfying $F\\subseteq E_j \\subseteq G$ and $S:= G-F$ which has measure $m\\big(S\\big)$ that may be chosen to be arbitrarily small (we make use of this at the end) when constructing $h$.  We also know that $\\big \\vert \\mathcal X_{E_j}(x) - h(x)\\big\\vert \\leq 1$ for $x \\in S$ and $\\big \\vert \\mathcal X_{E_j}(x) - h(x)\\big\\vert=0$ for $x \\in [a,b]-S$ \n",
    "\n",
    "$\\begin{align}    \\frac{1}{j}\\cdot m\\big(E_j\\big) \n",
    "&=   \\int_{(a,b)} \\frac{1}{j}\\cdot \\mathcal X_{E_j} dm\\\\\n",
    "&\\leq  \\int_{(a,b)} f\\cdot \\mathcal X_{E_j} dm\\\\\n",
    "&= \\int_{(a,b)}   f \\cdot \\big(\\mathcal X_{E_j}-h\\big) dm+\\int_{(a,b)}   f \\cdot h dm \\\\\n",
    "&= \\int_{(a,b)}   f \\cdot \\big(\\mathcal X_{E_j}-h\\big) dm  + 0\\text{ (by problem statement, since h is continuous)}\\\\\n",
    "&= \\int_{S}   f \\cdot \\big(\\mathcal X_{E_j}-h\\big) dm+\\int_{(a,b)-S}   f \\cdot \\big(\\mathcal X_{E_j}-h\\big) dm\\\\\n",
    "&= \\int_{S}   f \\cdot \\big(\\mathcal X_{E_j}-h\\big) dm+0\\\\\n",
    "&\\leq \\int_{S}  \\big \\vert  f \\big \\vert \\cdot \\big \\vert\\mathcal X_{E_j}-h\\big \\vert dm\\\\\n",
    "&\\leq \\int_{S}  \\big \\vert  f \\big \\vert  dm\\\\\n",
    "\\end{align}$\n",
    "\n",
    "where $\\vert f\\vert \\in L^1[a,b]$ so there exists some $\\delta\\gt 0$ such that $\\begin{align}  m\\big(S\\big)\\lt\\delta \\implies\\int_{S} \\big\\vert f\\big \\vert dm\\lt \\epsilon \\end{align} $ [Lemma 2.3.11] so construct $g$ such that $m\\big(S\\big)\\lt \\delta$.  This proves that $m\\big(E_j\\big)$ may be made arbitrarily small for any $j\\in \\mathbb N$ hence $m\\Big(\\big\\{x \\vert 0\\lt  f(x)\\big\\}\\Big)=0$.  Running the above argument on $-f$ shows $m\\Big(\\big\\{x \\vert 0\\lt -f(x)\\big\\}\\Big)=0$ and we conclude $f=0$ almost everywhere.  "
   ]
  },
  {
   "cell_type": "code",
   "execution_count": null,
   "id": "db1acfba",
   "metadata": {},
   "outputs": [],
   "source": []
  },
  {
   "cell_type": "markdown",
   "id": "096bf5b9",
   "metadata": {},
   "source": [
    "**ex 3.6.22**  \n",
    "let $\\mathcal l^\\infty$  be the space of coordinate vectors with countably infinite coordinates [indexed starting at one] that have bounded components.  Show that $\\big\\Vert (a_n)_{n=1}^\\infty\\big \\Vert = \\sup_n \\vert a_n\\vert$  is a norm on this space and that $\\mathcal l^\\infty$ is complete with respect to this norm.  \n",
    "\n",
    "let $\\psi: \\mathcal l^\\infty\\longrightarrow W\\subseteq L^\\infty[0,1]$ be given by  $\\psi(v)=\\sum_{n=1}^\\infty a_n \\cdot \\mathcal X_{A_n}$ with $A_k:= \\Big[1-\\frac{1}{2^{k-1}}, 1-\\frac{1}{2^{k}}\\Big)$  \n",
    "[more technically it is the above series 'plus' the set of functions that are zero almost everywhere as $L^\\infty[0,1]$ is a quotient group, though it is convenient to work with a sole distinct representative.  It might be cleaner to use and isomorphism from this quotient group to a vector space of these representatives, and accept that the 'norm' in place there is a semi-norm]  \n",
    "\n",
    "Then with $W:=\\psi\\big(\\mathcal l^\\infty\\big)$ we see $\\psi$ is an isomorphism that preserves the sup norm i.e. \n",
    "the homomorphism property $\\psi(v+w) = \\psi(v)+\\psi(w)$ and $\\psi(\\alpha \\cdot v)= \\alpha \\cdot \\psi(v)$ \n",
    "is immediate from the definition.  \n",
    "\n",
    "(As an aside, the series form for $\\psi$ is for convenience mainly but it also is nice to know that it is uniformly convergent series using the sup norm -- ref the Weierstrass test (6.6.2) on page 85 of Beardon-- and we can interpret the scaling and addition in terms of adding two uniformly convergent series if we like.  Similarly we can argue $\\psi$ is measurable by construction or if the series definition we can instead argue it is Lebesgue integrable as $\\psi_M=\\sum_{n=1}^M a_n \\cdot \\mathcal X_{A_n}$ is simple and $\\vert \\psi_M\\vert \\leq_\\text{a.e.} \\text{ constant function }:=  \\sup_n \\vert a_n\\vert$ so $\\psi \\in \\mathcal L[0,1]$ by Dominated Convergence.  )  \n",
    "\n",
    "$\\psi$ is surjective by construction and $\\psi(v)=0 \\iff v =\\mathbf 0$ by inspection so $\\ker \\psi = \\big\\{0\\big\\}$ i.e. it is injective.  \n",
    "\n",
    "\n",
    "Finally, for $v \\in\\mathcal l^\\infty$ we have $\\big\\Vert v\\big\\Vert =\\sup_n \\vert a_n\\vert = \\big\\Vert \\psi(v)\\big\\Vert_\\infty$  so $\\big \\Vert \\cdot \\big \\Vert$ is a norm on $\\mathcal l^\\infty$ as e.g. while positive definiteness is immediate, we may write  \n",
    "\n",
    "$\\big \\Vert \\alpha\\cdot v\\big \\Vert = \\big\\Vert \\psi(\\alpha\\cdot v)\\big\\Vert_\\infty=\\big\\Vert \\alpha\\cdot \\psi( v)\\big\\Vert_\\infty=\\vert \\alpha \\vert \\cdot \\big\\Vert  \\psi( v)\\big\\Vert_\\infty=\\vert\\alpha \\vert \\cdot \\big \\Vert  v\\big \\Vert$  \n",
    "$\\big \\Vert v + v' \\big \\Vert= \\big \\Vert \\psi(v + v') \\big \\Vert_\\infty = \\big \\Vert \\psi(v) + \\psi(v') \\big \\Vert_\\infty\\leq \\big \\Vert \\psi(v)\\big \\Vert_\\infty + \\big\\Vert \\psi(v') \\big \\Vert_\\infty = \\big \\Vert v \\big\\Vert+ \\big\\Vert v' \\big \\Vert$   \n",
    "\n",
    "\n",
    "For Cauchy sequence $\\big\\{v_n\\big\\}$ we have for fixed $\\epsilon \\gt 0$ for all $m,n \\geq N$    \n",
    "$\\big\\Vert \\psi(v_n) -\\psi(v_m)\\big\\Vert_\\infty =\\big\\Vert \\psi(v_n -v_m)\\big\\Vert_\\infty = \\big\\Vert v_n -v_m\\big\\Vert \\lt \\epsilon$   \n",
    "Looking at $v_n ,v_m$ component-wise we have $\\vert v_n^{(k)} -v_m^{(k)}\\vert \\leq \\sup_{r\\in \\mathbb N}\\vert v_n^{(r)} -v_m^{(r)}\\vert =\\big\\Vert v_n -v_m\\big\\Vert\\lt \\epsilon \\implies \\lim_{n\\to \\infty } v_n^{(k)}\\to v^{(k)}$ by Cauchy criterion for real sequences hence $v_n \\to v$ (in effect this is uniform convergence where $v_n^{(k)}\\to v^{(k)}$ irrespective of $k$ by choosing $n$ large enough) and by ex 3.6.17 $\\psi(v_n)\\to w \\in L^\\infty[0,1]$ so for all $n$ large enough $\\big\\Vert v_n\\big\\Vert=\\big\\Vert \\psi(v_n)\\big\\Vert_\\infty \\leq \\big\\Vert w\\big\\Vert_\\infty+\\epsilon :=K \\implies K\\geq \\vert v_n^{(r)}\\vert\\to \\vert v^{(r)}\\vert$ for arbitrary $r$ so $v$ is bounded.  \n",
    "\n",
    "**TBC: is there a slicker way to link these two different sup norm spaces**  "
   ]
  },
  {
   "cell_type": "code",
   "execution_count": null,
   "id": "89ac5bcd",
   "metadata": {},
   "outputs": [],
   "source": []
  },
  {
   "cell_type": "markdown",
   "id": "bfcee650",
   "metadata": {},
   "source": [
    "**ex 3.6.23**  \n",
    "Prove Corollary 3.3.4:  \n",
    "\n",
    "Let $\\phi$ be a simple function with  \n",
    "$\\phi = \\sum_{k=1}^n \\alpha_k \\mathcal X_{A_k}$  with measurable $A_k \\subseteq [a,b]$ for each $k$.  Then for every $\\epsilon \\gt 0$ there exists a continuous function $g$ such that $\\Big\\Vert \\phi - g\\Big\\Vert_p \\lt \\epsilon$.\n",
    "\n",
    "Proof: we can assume WLOG that each $\\alpha_k \\neq 0$ (otherwise re-label).  Now apply Lemma 3.3.3 to each $\\mathcal X_{A_k}$ with associated $\\epsilon_k:= \\frac{\\epsilon}{n\\cdot \\vert \\alpha_k\\vert}$ to get an associated $h_k$.  Finally set $g:= \\sum_{k=1}^n \\alpha_k h_k$ yielding  \n",
    "$\\Big\\Vert \\phi - g\\Big\\Vert_p= \\Big\\Vert \\sum_{k=1}^n \\alpha_k \\big(\\mathcal X_{A_k} - h_k\\big)\\Big\\Vert_p\\leq   \\sum_{k=1}^n  \\vert \\alpha_k\\vert \\cdot \\Big\\Vert \\mathcal X_{A_k} - h_k\\Big\\Vert_p\\lt \\sum_{k=1}^n  \\vert \\alpha_k\\vert\\cdot \\frac{\\epsilon}{n\\cdot \\vert \\alpha_k\\vert}=\\epsilon$ \n",
    "\n",
    "\n"
   ]
  },
  {
   "cell_type": "markdown",
   "id": "5084e63c",
   "metadata": {},
   "source": [
    "**ex 3.6.24**  \n",
    "Let $f\\in L^p[a,b]$ for $p\\geq 1$.  Given two real numbers $A,B$  and $\\epsilon \\gt 0$ show that there is a continuous function $g$ defined on $[a,b]$ with $g(a) =A$, $g(b)=B$ and  $\\big \\Vert f-g\\big \\Vert_p \\lt \\epsilon$   \n",
    "\n",
    "\n",
    "Apply Theorem 3.3.5 to construct $G$ from the prior exercise such that  \n",
    "$\\Big\\Vert G-\\phi \\Big\\Vert_p \\lt \\frac{\\epsilon}{3}$ \n",
    "\n",
    "where $G(a) = y$ and $G(b)-z$ so $\\delta_a +y = A$    and $\\delta_b +z = B$ where we can assume each $\\delta_a, \\delta_b\\neq 0$ (as each zero case can be trivially satisfied) with characteristic functions $\\mathcal X_a,\\mathcal X_b$ that are $1$ in sufficiently small neighborhoods around $a,b$ respectively and $0$ otherwise.  In particular: small enough means here that  $\\Big\\Vert \\mathcal X_a \\Big\\Vert_p, \\Big\\Vert \\mathcal X_b \\Big\\Vert_p \\lt \\frac{\\epsilon}{3 \\vert \\delta_a\\vert}, \\frac{\\epsilon}{3 \\vert \\delta_b\\vert}$, also that $\\mathcal X_a\\cdot \\mathcal X_b =0$, i.e. the neighborhoods are disjoint and the neighborhoods themselves are open intervals $E_a, E_b := [a, \\gamma_a),(\\gamma_b, b] = G_a, G_b$ which are open in the relative/subspace topology.  \n",
    "\n",
    "Applying Lemma 3.3.3, we have $F_a:=[a, \\_ ] \\subseteq E_a =G_a$ and $F_b:=[\\_,b] \\subseteq E_b =G_b$ and by construction $G_a \\cap G_b =\\big\\{\\big\\}$, so we get continuous $h_a(a)=1$ and $h_b(b)=1$ and $h_a(x) \\leq \\mathcal X_a(x)$ (this holds everywhere, per bottom of p.133 we only need to check $x\\in G_a-F_a$ and see $h_a(x)\\leq 1 = \\mathcal  X_a(x)$)   $\\implies \\big\\Vert h_a\\big\\Vert_p \\leq \\big \\Vert \\mathcal X_a\\big\\Vert_p$ and similarly $h_b(x) \\leq \\mathcal X_b(x) $   \n",
    "\n",
    "$g: = \\delta_a \\cdot h_a + \\delta_b \\cdot h_b + G$  \n",
    "\n",
    "$\\Big\\Vert g-\\phi \\Big\\Vert_p$  \n",
    "$= \\Big\\Vert \\delta_a \\cdot h_a + \\delta_b \\cdot h_b + G -\\phi \\Big\\Vert_p $  \n",
    "$\\leq  \\vert \\delta_a\\vert\\cdot \\Big\\Vert h_a \\Big\\Vert_p+ \\vert \\delta_b\\vert\\cdot \\Big\\Vert h_b \\Big\\Vert_p + \\Big\\Vert G-\\phi \\Big\\Vert_p $  \n",
    "$\\leq  \\vert \\delta_a\\vert\\cdot \\Big\\Vert \\mathcal X_a \\Big\\Vert_p+ \\vert \\delta_b\\vert\\cdot \\Big\\Vert \\mathcal X_b \\Big\\Vert_p + \\Big\\Vert G-\\phi \\Big\\Vert_p $  \n",
    "$\\leq \\vert\\delta_a\\vert\\cdot\\frac{\\epsilon}{3\\cdot \\vert \\delta_a\\vert}+\\vert\\delta_b\\vert\\cdot\\frac{\\epsilon}{3\\cdot \\vert \\delta_b\\vert}+\\frac{\\epsilon}{3} $  \n",
    "$=\\epsilon$ \n"
   ]
  },
  {
   "cell_type": "code",
   "execution_count": null,
   "id": "fa2df061",
   "metadata": {},
   "outputs": [],
   "source": []
  },
  {
   "cell_type": "markdown",
   "id": "548f6261",
   "metadata": {},
   "source": [
    "exercises 25 - 30 all relate to section 5, which was skipped\n"
   ]
  }
 ],
 "metadata": {
  "kernelspec": {
   "display_name": "Python 3 (ipykernel)",
   "language": "python",
   "name": "python3"
  },
  "language_info": {
   "codemirror_mode": {
    "name": "ipython",
    "version": 3
   },
   "file_extension": ".py",
   "mimetype": "text/x-python",
   "name": "python",
   "nbconvert_exporter": "python",
   "pygments_lexer": "ipython3",
   "version": "3.8.16"
  }
 },
 "nbformat": 4,
 "nbformat_minor": 5
}
