{
 "cells": [
  {
   "cell_type": "markdown",
   "id": "b1eff210",
   "metadata": {},
   "source": [
    "**ex 1.4.1**  \n",
    "see exercise 2 with countable sets"
   ]
  },
  {
   "cell_type": "markdown",
   "id": "6c95cdac",
   "metadata": {},
   "source": [
    "**ex 1.4.2**  \n",
    "Let $A\\subset \\mathbb R$ be countable.  Use the definition of outer measure to show $m^*(A)=0$  \n",
    "\n",
    "Since $A$ is countable we may label its elements $x_k \\in A$ and  \n",
    "\n",
    "$S =\\bigcup_{k=1}^{\\vert A\\vert} \\big[x_k - \\frac{\\epsilon}{2^k}, x_k + \\frac{\\epsilon}{2^k}\\big] $  \n",
    "$\\sigma(S) \\leq \\sum_{k=1}^{\\vert A\\vert}v\\Big(\\big[x_k - \\frac{\\epsilon}{2^k}, x_k + \\frac{\\epsilon}{2^k}\\big]\\Big)=2\\epsilon \\cdot \\sum_{k=1}^{\\vert A\\vert}\\frac{1}{2^k}\\leq 2\\epsilon \\cdot \\frac{1}{2}\\cdot\\frac{1}{1-\\frac{1}{2}}=2\\epsilon$  \n",
    "which may be made arbitrarily small hence $0=\\inf \\sigma(S)=m^*(S)$  \n",
    "\n",
    "*remark:*  \n",
    "the reason $\\sigma(S) \\leq \\sum_{k=1}^{\\vert A\\vert}v\\Big(\\big[x_k - \\frac{\\epsilon}{2^k}, x_k + \\frac{\\epsilon}{2^k}\\big]\\Big)$ is e.g. all points in $A$ could very close to $x_1$ relative to some fixed $\\epsilon$ hence $S$ may be a singleton only containing $\\big[x_1 - \\frac{\\epsilon}{2}, x_1 + \\frac{\\epsilon}{2}\\big] $"
   ]
  },
  {
   "cell_type": "markdown",
   "id": "9f996037",
   "metadata": {},
   "source": [
    "**ex 1.4.3**  \n",
    "\n",
    "Let $S$ and $T$ be coverings of a set $A$ by intervals  \n",
    "(a) explain why $S\\cup T$ is also a covering of $A$ by intervals  \n",
    "$A\\subseteq S \\text{ & } A\\subseteq T\\implies A \\subseteq \\big(S\\cup T\\big)$  \n",
    "where $\\big(S\\cup T\\big)$ is a countable collection of closed intervals so this is a covering  \n",
    "\n",
    "(b) Show that $\\sigma\\big(S\\cup T\\big)\\leq \\sigma(S) + \\sigma(T)$  \n",
    "$\\big(S\\cup T\\big) = S \\cup \\big(T-S\\big)$  \n",
    "$\\implies \\sigma\\big(S\\cup T\\big)\\leq \\sigma(S) + \\sigma(T-S)\\leq \\sigma(S) + \\sigma(T-S) + \\sigma(T\\cap S) = \\sigma (S) + \\sigma(T)$  \n",
    "where $\\sigma(T\\cap S)\\geq 0$ since the volumes are non-negative hence there sums are as well \n",
    "\n",
    "technical nit:  \n",
    "I don't think $\\sigma$ was actually defined in the text for empty sets, so to be exact we want $\\sigma\\Big(\\big\\{\\big\\}\\Big) :=0$\n"
   ]
  },
  {
   "cell_type": "markdown",
   "id": "888aeb3e",
   "metadata": {},
   "source": [
    "**ex 1.4.4**  \n",
    "\n",
    "Show that for $c\\in \\mathbb R$ and fixed $k$, the set (known as a hyperplane in $\\mathbb R^n$)  \n",
    "$A=\\big\\{\\mathbf x \\in \\mathbb R^n \\big\\vert x_k = c\\big\\}$ [for some fixed k] \n",
    "has Lebesgue outer measure zero   \n",
    "\n",
    "$A=\\bigcup_{r=1}^\\infty A_r$ with  \n",
    "$A_r := \\big\\{\\mathbf x \\in \\mathbb R^n \\big\\vert\\text{ for }j \\neq k: -\\frac{r}{2}\\leq  x_j \\leq \\frac{r}{2} \\text{ & } c - \\frac{\\lambda}{2}  \\leq  x_k \\leq  c + \\frac{\\lambda}{2}\\big\\}$  \n",
    "where $\\lambda:=\\epsilon\\cdot r^{-(n-1)}\\cdot 2^{-r}$  \n",
    "$\\implies m^*\\big(A_r\\big) = v\\big(A_r\\big) = r^{n-1}\\cdot \\lambda =  r^{n-1}\\cdot \\big(\\epsilon\\cdot r^{-(n-1)}\\cdot 2^{-r}\\big)=\\epsilon\\cdot 2^{-r}$  \n",
    "where the 1st equality is Prop 1.1.11 and the rest is direct calculation (i.e. definition on page 16)  \n",
    "\n",
    "$\\implies m^*\\Big(A\\Big)=m^*\\Big(\\bigcup_{r=1}^\\infty A_r\\Big)\\leq \\sum_{r=1}^\\infty m^*\\Big( A_r\\Big)=\\sum_{r=1}^\\infty\\epsilon\\cdot 2^{-r} = \\epsilon$  \n",
    "where the upper bound follows by Prop 1.1.9  \n",
    "since $\\epsilon \\gt 0$ may be made arbitrarily small $\\implies m^*\\Big(A\\Big) =0$  \n"
   ]
  },
  {
   "cell_type": "markdown",
   "id": "36ddbdcb",
   "metadata": {},
   "source": [
    "**ex 1.4.5**  \n",
    "Suppose $A$ and $B$ are both Lebesgue measurable.  Prove if both $A$ and $B$ have measure zero then $A\\cup B$ is Lebesgue measurable and $m\\big(A\\cup B\\big)=0$   \n",
    "**(a.)** Do this directly from Def 1.2.1  \n",
    "\n",
    "For any $\\epsilon \\gt 0$: applying Prop 1.1.8, then Corollary 1.1.14, then Prop 1.1.9    \n",
    "$m^*\\big(G- (A\\cup B)\\big)\\leq m^*\\big(G\\big)\\leq m^*\\big(A\\cup B\\big)+ \\epsilon \\leq m^*\\big(A\\big)+m^*\\big(B\\big)+\\epsilon =0  + \\epsilon$  \n",
    "$\\implies A \\cup B\\text{ is Lebesgue measurable & } m^*\\big(A\\cup B\\big)= m\\big(A\\cup B\\big)=0$  \n",
    "\n",
    "**(b.)** Give a shorter proof by using Theorem 1.2.5  \n",
    "the theorem directly tells us $m\\big(A\\cup B\\big)\\leq m\\big(A\\big)+m\\big(B\\big)=0+0=0$  \n"
   ]
  },
  {
   "cell_type": "markdown",
   "id": "1a11f095",
   "metadata": {},
   "source": [
    "**ex 1.4.6**  \n",
    "Suppose $A$ has Lebesgue measure zero and $B\\subseteq A$.  Prove $B$ is (Lebesgue) measurable and $m(B)=0$  \n",
    "\n",
    "using Prop 1.1.8 we have  \n",
    "$m^*(B)\\leq m^*(A)=0$  \n",
    "\n",
    "Def 1.2.1 tells us for any $\\epsilon \\gt 0$ there is an open set $G$ with $A\\subseteq G$ where $m^*(G-A)\\lt \\epsilon$\n",
    "\n",
    "Corollary 1.1.10 tells us  \n",
    "$m^*(G) - 0= m^*(G) - m^*(A) \\leq m^*(G-A)\\lt \\epsilon$ so apply prop 1.1.8 gives  \n",
    "$m^*(G-B)\\leq m^*(G) \\lt \\epsilon$  \n",
    "hence $B$ is measurable and $m(B)=m^*(B)=0$ (def 1.2.1)  \n",
    "\n",
    "**errata remark:**  \n",
    "I believe there statement of Corollary 1.1.10 has an error.  It should say $m^*(A)\\lt \\infty$  not $m^*(B)\\lt \\infty$.  Since $A\\subseteq B\\subseteq \\mathbb R^n$   then by Prop 1.1.8, $m^*(B)\\lt \\infty \\implies m^*(A)\\lt \\infty$ which is sufficient but the statement is still formally true when $m^*(B)= \\infty$ and $m^*(A)\\lt \\infty$.   Recall that discussion of arithmetic on $\\mathbb R \\cup \\{+\\infty\\}$ at the bottom of page 17-- the only prohibition is subtracting $\\infty$ not adding it, so going from Prop 1.1.9 to Corollary 1.1.10 amounts to adding  $c:=-m^*(A)$ to each side, on the assumption it is finite  \n"
   ]
  },
  {
   "cell_type": "markdown",
   "id": "97379da4",
   "metadata": {},
   "source": [
    "**ex 1.4.7**\n",
    "Prove Corollary 1.1.10.  Given an example to show that the result does not necessarily hold if $m^*\\big(B\\big)$ is not finite.  \n",
    "ref **errata remark** on prior exercise.  I believe both the Corollary and this exercise should say instead:  $m^*\\big(A\\big)$ is not finite.   \n",
    "\n",
    "Using Prop 1.1.9 we have, with $A\\subseteq B \\subseteq \\mathbb R^n$  \n",
    "$m^*\\big(B\\big)= m^*\\big(A\\cup (B-A)\\big)\\leq m^*\\big(A\\big)+m^*\\big(B-A\\big)$  \n",
    "Now assuming $m^*\\big(A\\big)$ is finite, we may subtract it from each side  \n",
    "\n",
    "Let $A=\\mathbb R -\\big\\{0\\big\\}$ and $B= \\mathbb R$   \n",
    "Then $m^*\\big(A\\big)=\\infty$ since $\\big[1, n\\big]\\subseteq A\\implies n -1 = m^*\\big(\\big[1, n\\big]\\big) \\leq m^*\\big(A\\big)$  \n",
    "for any $n\\in \\mathbb N$ (per Prop 1.1.11 and Prop 1.1.8) so $m^*\\big(A\\big)$ cannot be finite  \n",
    "$m^*\\big(B-A\\big)=0$ per Example 1.1.3 but if we misapplied Corollary 1.1.10 then we'd write  \n",
    "$\\infty -\\infty \\leq 0$ which is not defined  \n",
    "\n",
    "*alternatively*  \n",
    "if $A=\\big\\{0\\big\\}$ and $B= \\mathbb R$ then $B-A=\\mathbb R -\\big\\{0\\big\\}$ Corollary 1.1.10 reads \n",
    "$\\infty - 0 \\leq \\infty$  \n",
    "recall the commentary at the bottom of page 17 about $\\infty + c = \\infty$ for $c \\in \\mathbb R$ (here $c=0=-0$)   \n",
    "\n",
    "\n"
   ]
  },
  {
   "cell_type": "markdown",
   "id": "091aaed6",
   "metadata": {},
   "source": [
    "**ex 1.4.26**  \n",
    "*in effect:* prove subdivision of rectangle does not change its volume  \n",
    "\n",
    "$\\sum_{i=1}^m \\sum_{j=1}^n v\\big(I_{ij}\\big) $  \n",
    "$= \\sum_{i=1}^m \\sum_{j=1}^n \\big(a_i-a_{i-1}\\big)\\cdot\\big(c_j-c_i\\big)$  \n",
    "$= \\sum_{i=1}^m \\big(a_i-a_{i-1}\\big) \\cdot \\sum_{j=1}^n \\big(c_j-c_i\\big)$  \n",
    "$=\\sum_{i=1}^m \\big(a_i-a_{i-1}\\big)\\cdot \\big(c_n-c_0\\big)$   \n",
    "$=\\big(c_n-c_0\\big)\\cdot\\sum_{i=1}^m \\big(a_i-a_{i-1}\\big)$  \n",
    "$=\\big(c_n-c_0\\big)\\cdot\\big(a_m-a_0\\big)$  \n",
    "$=v\\big(I\\big)$  "
   ]
  },
  {
   "cell_type": "code",
   "execution_count": null,
   "id": "6d27400a",
   "metadata": {},
   "outputs": [],
   "source": []
  },
  {
   "cell_type": "markdown",
   "id": "ac33ae88",
   "metadata": {},
   "source": [
    "**lemma:**  \n",
    "Building on the prior exercise, let $S$ be a *finite set* containing closed intervals and $J$ be a rectangle [closed interval].  Then  \n",
    "\n",
    "$\\bigcup_{I_\\alpha \\in S}I_\\alpha \\subseteq J \\implies \\sum_{I_\\alpha \\in S}v\\big(I_\\alpha\\big) \\leq v\\big(J\\big)$  \n",
    "when each $I_\\alpha$ came from a uniform subdivision of the same rectangle --i.e. where each resulting (new) rectangle has the same size.  \n",
    "\n",
    "In terms of coordinates let $x,X$ (and $y, Y$) be the respective minimum and maximum horizontal (vertical) coordinates over all $I_\\alpha$.  Then the rectangle $R$ with vertices $\\big\\{(x,y), (x, Y), (X,y), (X,Y)\\big\\}$ observes $R\\subseteq J$ since $J$ is a rectangle and it contains e.g. a horizontal a line segment at height $Y$ which contains $(x,Y)$ and $(X,Y)$ and similarly contains  $(x,y)$ and $(X,y)$, hence $R\\subseteq J$ since $J$ is convex.  \n",
    "\n",
    "We can argue $\\sum_{I_\\alpha \\in S}v\\big(I_\\alpha\\big) \\leq v\\big(R\\big)$ as follows.  The height of $R$ is an integer multiple, $m_v$ of the vertical side length of $I_\\alpha$ and the length of $R$ an integer multiple, $m_h$ of the horizontal side length of $I_\\alpha$.  This implies we may subdivide $R$ into a grid with horizontal \"cuts\" every $m_v$ increment and vertical \"cuts\" every $m_h$ increment. Less geometrically: in the language of the prior problem, our subdivision of $R$ results in vertices $x+k\\cdot m_h$ for $k\\in \\big\\{0, 1, \\dots, \\frac{X-x}{m_h}\\big\\}$ and   $y+k\\cdot m_v$ for $k\\in \\big\\{0, 1, \\dots, \\frac{Y-y}{m_v}\\big\\}$.  Let $S'$ contain all of these sub-rectangles, observing $S\\subseteq S'$.  By non-negativity of volume and the prior exercise we have   \n",
    "$\\sum_{I_\\alpha \\in S}v\\big(I_\\alpha\\big) \\leq \\sum_{I_\\alpha \\in S'}v\\big(I_\\alpha\\big) = v\\big(R\\big)\\leq   v\\big(J\\big)$  \n",
    "where $v\\big(R\\big)\\leq   v\\big(J\\big)$ per the definition of volume (p. 16) \n",
    "\n",
    "**remark:**  \n",
    "We may be able to use ex 1.4.8 to streamline this.  Lemma 1.2.9 would seem to help but in some sense it (/its proof) relies on the same results (/proof techniques) as this problem but the author doesn't actually show those specifics.  This should also generalize to higher dimensions since again closed interval $J$ is convex.  \n"
   ]
  },
  {
   "cell_type": "markdown",
   "id": "d187713d",
   "metadata": {},
   "source": [
    "**ex 1.4.27**  \n",
    "$I= \\big\\{(x,y) \\in \\mathbb R^2\\vert a\\leq x \\leq b; c\\leq y \\leq d\\big\\}$ be a closed interval in $\\mathbb R^2$.  \n",
    "(**errata:** the text says $y \\leq b$ but I believe $y\\leq d$ was meant; this same issue shows up in the prior exercise)    \n",
    "Let $J_1, J_2, \\dots, J_n$ be a finite collection of closed intervals that cover $I$.  That is  \n",
    "$I\\subseteq \\bigcup_{k=1}^n J_k$.  Show that $v\\big(I\\big)\\leq \\sigma\\big(\\cup_{k=1}^n J_k\\big)=\\sum_{k=1}^n v\\big(J_k\\big)$.  \n",
    "\n",
    "\n",
    "Mimicking Nelson on page 26, for any $\\epsilon \\gt 0$ let $J_k^*$ be an expanded version of $J_k$ such that $J_k \\subseteq \\text{interior }\\big(J_k^*\\big)$ and $v\\big(J_k^*\\big) \\leq \\big(1+\\epsilon\\big)\\cdot v\\big(I_k\\big)$  \n",
    "\n",
    "\n",
    "For each $p\\in I$ we have $p \\in J_k\\subseteq \\text{interior }J_k^*$ for some $k(p)$ (i.e. $k$ depends on $p$) $\\implies $ there is some ball $B\\big(p,\\delta^{(p)}\\big)\\subseteq \\text{interior }J_{k((p)}^*$ since $\\text{interior }J_k^*$ is open [giving an open cover of $I$].  Since $I$ is compact there is in fact some $\\delta\\gt 0$, the Lebesgue number, such that $B\\big(p,\\delta\\big)\\subseteq \\text{interior }J_{k((p)}^*\\subseteq J_{k((p)}^*$ where $\\delta$ does not depend on $p$.  \n",
    "\n",
    "Any rectangle $R$ with center (/centroid) $p$ such that its height + its length $\\lt \\delta$ satisfies $R\\in B\\big(p,\\delta\\big)\\subseteq J_{k((p)}^*$ by triangle inequality (and convexity), hence if we bisect (in analogy with barycentric subdivision for simplices) $I$ a large enough number of times then each resulting sub-rectangle will have height and length will each being $\\lt \\frac{\\delta}{2}$.  I.e. bisecting one times (using the notation from the prior exercise) inserts a vertex at the midpoint between $a$ and $b$ and also a vertex at the midpoint between $c$ and $d$.  Bisecting again inserts a vertex in the midpoint between two adjacent vertices with the effect of cutting the height and width of a (sub)rectangle in half at each iteration.   \n",
    "\n",
    "Thus after a large enough number of bisections we may 'assign' each $I_{ij}$ to exactly one $J_k^*$ that it is completely contained in (if it is contained in multiple $J_k^*$ choose the one with smallest index) and let $S^{(J_k^*)}$ contain all of those respective $I_{ij}$.  Then we may write (making use of the prior exercise and lemma) \n",
    "\n",
    "$v\\big(I\\big) = \\sum_{i=1}^r \\sum_{j=1}^r v\\big(I_{ij}\\big) =\\sum_{k=1}^n\\big(\\sum_{I_{ij}\\in S^{(J_k^*)}}v\\big(I_{ij}\\big)\\leq  \\sum_{k=1}^n v\\big(J_k^*\\big)\\leq  (1+\\epsilon)\\cdot \\sum_{k=1}^n v\\big(J_k\\big)\\implies v\\big(I\\big)\\leq \\sum_{k=1}^n v\\big(J_k\\big)$  \n",
    "since $\\epsilon \\gt 0$ was arbitrary  \n"
   ]
  },
  {
   "cell_type": "code",
   "execution_count": null,
   "id": "b68a5c32",
   "metadata": {},
   "outputs": [],
   "source": []
  }
 ],
 "metadata": {
  "kernelspec": {
   "display_name": "Python 3 (ipykernel)",
   "language": "python",
   "name": "python3"
  },
  "language_info": {
   "codemirror_mode": {
    "name": "ipython",
    "version": 3
   },
   "file_extension": ".py",
   "mimetype": "text/x-python",
   "name": "python",
   "nbconvert_exporter": "python",
   "pygments_lexer": "ipython3",
   "version": "3.8.16"
  }
 },
 "nbformat": 4,
 "nbformat_minor": 5
}
