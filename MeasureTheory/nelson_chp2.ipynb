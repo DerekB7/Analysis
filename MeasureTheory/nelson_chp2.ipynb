{
 "cells": [
  {
   "cell_type": "markdown",
   "id": "c280ddff",
   "metadata": {},
   "source": [
    "Note: as with the prior chapter \"measurable = Lebesgue measurable\".  More general measures are not introduced until chapter 4.  "
   ]
  },
  {
   "cell_type": "code",
   "execution_count": null,
   "id": "54732b66",
   "metadata": {},
   "outputs": [],
   "source": []
  },
  {
   "cell_type": "markdown",
   "id": "9fe8493f",
   "metadata": {},
   "source": [
    "*remark on the finish of Theorem 2.1.12*  \n",
    "\n",
    "I found the very final implication that $f^*(x) =\\lim_{n\\to \\infty}M_n(x)=\\inf_n\\big\\{M_n(x)\\big\\}$  \n",
    "is measurable just because $M_n(x)$ is for each $n$, to be opaque.  (And similarly with $f_*(x)$.)  \n",
    "I think it is prudent to (using Theorem 2.1.4(iv) on p.59) to revisit page 65 and write, for some fixed $s\\in \\mathbb R$  \n",
    "\n",
    "$E_n := \\big\\{x\\in I\\vert M_n(x)\\geq s\\big\\}=\\bigcup_{k=n}^\\infty \\big\\{x\\in I\\vert f_k(x)\\geq s\\big\\}$  \n",
    "is measurable as a countable union of measurable sets.  Now recalling the commentary at the bottom of page 64 that $M_n(x)$ forms a bounded, monotone non-increasing sequence hence has a limit $L$ for each $x$, we can argue that  \n",
    "$S:=\\big\\{x\\in I\\vert \\lim_{n\\to \\infty}M_n(x)\\geq s\\big\\}$  \n",
    "for $x\\in S$, then $M_n(x) \\geq s\\implies x \\in E_n$ for arbitrary $n$ so $x \\in E$ (defined below) thus $S\\subseteq E$    \n",
    "\n",
    "Conversely $E:= \\bigcap_{n=1}^\\infty E_n$  \n",
    "if $x \\in E$ then $M_n(x)\\geq s$ for all $n\\implies \\lim_{n\\to \\infty}M_n(x)\\geq s\\implies x \\in S$ so $E\\subseteq S$    \n",
    "$\\implies \\big\\{x\\in I\\vert \\lim_{n\\to \\infty}M_n(x)\\geq s\\big\\} = E= \\bigcap_{n=1}^\\infty E_n$  \n",
    "a countable intersection of measurable sets hence measurable. "
   ]
  },
  {
   "cell_type": "code",
   "execution_count": null,
   "id": "72c94143",
   "metadata": {},
   "outputs": [],
   "source": []
  },
  {
   "cell_type": "markdown",
   "id": "69779d00",
   "metadata": {},
   "source": [
    "**ex 2.6.1**  \n",
    "Let $E\\subseteq I=[a,b]$ and let $\\mathcal X_E$ be the characteristic function of $E$.  Prove that $\\mathcal X_E(x)$ is a measurable function *iff* $E$ is a measurable set.  \n",
    "\n",
    "\n",
    "$\\mathcal X_E$ is defined on $[a,b]$ and $1$ is $x\\in E$, otherwise $0$. \n",
    "\n",
    "$E= \\big\\{x\\in I\\big\\vert \\mathcal X_E(x)\\gt 0\\big\\}$  is measurable when $\\mathcal X_E$ is (check def 2.1.1)  \n",
    "\n",
    "conversely when $E$ is measurable then  \n",
    "$E=\\big\\{x\\in I\\big\\vert \\mathcal X_E(x)\\gt 0\\big\\}$ is measurable as is  \n",
    "$I=\\big\\{x\\in I\\big\\vert \\mathcal X_E(x)\\gt -1\\big\\}$ and so is $\\big\\{\\big\\}=\\big\\{x\\in I\\big\\vert \\mathcal X_E(x)\\gt 1\\big\\}$  \n",
    "[though as I remarked in 'nelson_chp1.ipynb' I assigned the emtpy set to have measure zero as I didn't recall Nelson making this assignment]  \n",
    "\n",
    "Thus $\\mathcal X_E$ is measurable. "
   ]
  },
  {
   "cell_type": "markdown",
   "id": "be462969",
   "metadata": {},
   "source": [
    "**ex 2.6.2**  \n",
    "Suppose $f:[a,b]\\longrightarrow \\mathbb R$ is a measurable function  \n",
    "**(a)** Show that the inverse image of a closed interval $[c,b]$ is a measurable set.  Recall: the inverse image of a set $C$ is  \n",
    "$f^{-1}\\big(C\\big)=\\big\\{x \\in [a,b]\\big \\vert f(x) \\in C\\big\\}$  \n",
    "\n",
    "Thus we want  \n",
    "$f^{-1}\\big([c,d]\\big)=\\big\\{x \\in [a,b]\\big \\vert f(x) \\in [c,d]\\big\\}=\\big\\{x \\in [a,b]\\big \\vert f(x)\\geq c \\big\\}\\bigcap \\big\\{x \\in [a,b]\\big \\vert f(x)\\leq c\\big\\}$  \n",
    "each of the 2 sets on the RHS are measurable since $f$ is (Theorem 2.1.4) and measurability is closed under countable intersections  \n",
    "\n",
    "**(b)** Show that the inverse image of an open set in $\\mathbb R$ is a measurable set   \n",
    "*Special Case:* an open set of the form $(c,d)$ then  \n",
    "$f^{-1}\\big((c,d)\\big)=\\big\\{x \\in [a,b]\\big \\vert f(x) \\in (c,d)\\big\\}=\\big\\{x \\in [a,b]\\big \\vert f(x)\\gt c \\big\\}\\bigcap \\big\\{x \\in [a,b]\\big \\vert f(x)\\lt c\\big\\}$  \n",
    "\n",
    "*General Case:*  if we recall page 23 (chp 2) of McCleary we have $\\mathcal B_u =\\big\\{(c,d)\\vert c\\lt d \\text{ & }c,d \\in \\mathbb Q\\big\\}$ is a *countable basis* for the usual topology on $\\mathbb R$.  \n",
    "Thus for open set $O\\in \\mathbb R$ we may write $O=\\bigcup_{k=1}^\\infty O_k$ where each $O_k \\in \\mathcal B_u$ and  \n",
    "$f^{-1}\\big(O\\big)=\\bigcup_{k=1}^\\infty f^{-1}\\big(O_k\\big)$  \n",
    "and each $f^{-1}\\big(O_k\\big)$ is measurable per the special case hence $f^{-1}\\big(O\\big)$ as a countable union of measurable sets is measurable.  \n",
    "\n",
    "*remark:*   \n",
    "$f^{-1}\\big(\\bigcup_{k=1}^\\infty O_k\\big)=\\bigcup_{k=1}^\\infty f^{-1}\\big(O_k\\big)$ is a slight extension of ex 1.1(b) in McCleary.  To be sure:     \n",
    "if $u \\in \\bigcup_{k=1}^\\infty f^{-1}\\big(O_k\\big)$ then $u \\in f^{-1}\\big(O_j\\big)$ for some $j$ and $f(u)=p$ for some $p\\in O_j \\implies p \\in  \\bigcup_{k=1}^\\infty O_k\\implies f^{-1}\\big(u\\big)\\in f^{-1}\\big(\\bigcup_{k=1}^\\infty O_k\\big)$  \n",
    "$\\implies \\bigcup_{k=1}^\\infty f^{-1}\\big(O_k\\big)\\subseteq f^{-1}\\big(\\bigcup_{k=1}^\\infty O_k\\big)$  \n",
    "\n",
    "\n",
    "and if $u\\in f^{-1}\\big(\\bigcup_{k=1}^\\infty O_k\\big)$ then $f(u) = p \\in \\bigcup_{k=1}^\\infty O_k\\implies p \\in O_j$ for some $j\\implies u = f^{-1}(p) \\in f^{-1}\\big(O_j\\big)\\subseteq \\bigcup_{k=1}^\\infty f^{-1}\\big(O_k\\big)$  \n",
    "$\\implies f^{-1}\\big(\\bigcup_{k=1}^\\infty O_k\\big)\\subseteq \\bigcup_{k=1}^\\infty f^{-1}\\big(O_k\\big)$  \n",
    "\n",
    "*additional remark:*  \n",
    "We could instead write the open set as a countable union of closed intervals using Lemma 1.2.10 (p. 34)"
   ]
  },
  {
   "cell_type": "markdown",
   "id": "265dc347",
   "metadata": {},
   "source": [
    "**ex 2.6.3**   \n",
    "Let $[c,d] \\subseteq [a,b]$.  Show that if $f$ is measurable on $[a,b]$ then $f$ is measurable on $[c,d]$.  \n",
    "\n",
    "For arbitrary $s\\in \\mathbb R$ we have  \n",
    "$\\big\\{x \\in [c,d]\\big\\vert f(x) \\gt s\\big\\} = \\big\\{x \\in [a,b]\\big\\vert f(x) \\gt s\\big\\} \\cap \\big[c,d\\big]$  \n",
    "hence is measurable thus $f$ is measurable on $[c,d]$     "
   ]
  },
  {
   "cell_type": "markdown",
   "id": "54e2a36f",
   "metadata": {},
   "source": [
    "**ex 2.6.4**  \n",
    "Find an example of a point-wise bonded sequence of measurable functions $\\big\\{f_n\\big\\}$ on $[0,1]$ $\\big($recall from Def  2.1.10 this means $\\big\\{f_n(x)\\big\\}$  is a bounded sequence of real numbers for every $x\\in [0,1]\\big)$ such that each $f_n(x)$ is a bounded function but $f^*(x) =\\lim_{n\\to \\infty}\\sup f_n(x)$ is not a bounded function.\n",
    "\n",
    "- - - -  \n",
    "(near) **errata**  \n",
    "This is extremely bad notation since $f_n(x)$ formally denotes an image point as does $f^*(x)$ and Nelson explicitly uses that interpretation when working through sequences of $f_n(x)$ and $\\sup f_n(x)$ as sequences of those image points under Def 2.1.10. What the author really means is each such that each $f_n$ is a bounded function and $f^* =\\lim_{n\\to \\infty}\\sup f_n$ given by $f^*(x) =\\lim_{n\\to \\infty}\\sup f_n(x)$ for any $x \\in [0,1]$.  \n",
    "- - - -  \n",
    "\n",
    "\n",
    "Construct $f_n$ as follows.  \n",
    "$f_n\\big(x\\big) =0$  if $x \\in \\mathbb R-\\mathbb Q$  \n",
    "and let ordered set $S=\\big\\{r_1, r_2, \\dots\\big\\}$ be a specific counting of $\\mathbb Q \\cap \\big[0,1\\big]$ (ala ex 0.4.11) and for $x\\in \\mathbb  Q$, then $x= r_j$ for some $j$ so define:   \n",
    "$f_n\\big(r_j\\big) =\\min\\big(n,j\\big)$  \n",
    "\n",
    "Thus $f_n\\Big(\\big[0,1\\big]\\Big)\\subseteq \\big[0,n\\big]$ so $f_n$ is bounded and at each $r_j$.  We also have $f_n\\big(r_j\\big) \\in \\big[0,j\\big]$ so $\\Big\\{f_1\\big(r_j\\big),f_2\\big(r_j\\big), \\dots\\Big\\}$ gives a bounded sequence of points (and of course this holds for irrational $x$ as we have a sequence of zeros). Also consider the zero function given by $g(x) =0$ and $f_n=g$ a.e. on $\\big[0,1\\big]$ so $f_n$ is measurable as required.\n",
    " \n",
    "But $f^*\\big(r_j\\big) = j$ so $f^*$ is an unbounded function.  \n"
   ]
  },
  {
   "cell_type": "code",
   "execution_count": null,
   "id": "26d1298a",
   "metadata": {},
   "outputs": [],
   "source": []
  },
  {
   "cell_type": "markdown",
   "id": "67d9cedc",
   "metadata": {},
   "source": [
    "**ex 2.6.5**  \n",
    "Suppose that $f:[a,b]\\longrightarrow \\mathbb R$ is a strictly monotone increasing function.  Prove that $f$ is a measurable function.  \n",
    "\n",
    "select $s\\in \\mathbb R$  \n",
    "\n",
    "if $f(x)\\not \\gt s$ for all $s$ then $\\big\\{x\\in I\\vert f(x)\\gt s\\big\\}= \\big\\{\\big\\}$  which is measurable  \n",
    "otherwise $\\big\\{x\\in I\\vert f(x)\\gt s\\big\\}$ is a bounded set so it has an infimum $p$ and since $f$ is strictly increasing we know $f(x)\\gt s$ for $x\\in \\big(p, b\\big]$  thus  \n",
    "$\\big\\{x\\in I\\vert f(x)\\gt s\\big\\} \\in \\Big\\{\\big(p, b\\big], \\big[p, b\\big]\\Big\\}$ where $\\big[p, b\\big]$ is a closed set hence is measurable and $\\big(p, b\\big]=\\big(p, b\\big) \\cup \\big\\{b\\big\\}$ a union of two measurable sets hence measurable.  \n",
    "\n",
    "**remark:**  \n",
    "this proof runs identically for monotone non-decreasing function $f$  "
   ]
  },
  {
   "cell_type": "code",
   "execution_count": null,
   "id": "d0c72c5d",
   "metadata": {},
   "outputs": [],
   "source": []
  },
  {
   "cell_type": "markdown",
   "id": "5d0124d6",
   "metadata": {},
   "source": [
    "**ex 2.6.6**  \n",
    "Let $f$ and $g$ be measurable functions on an interval $I$.  \n",
    "**(a.)** Show that $\\big\\{x\\in I\\vert f(x)\\gt g(x)\\big\\}$ is a measurable set.  \n",
    "Theorem 2.1.5 tells us (somewhat trivially) that $-g(x)$ is measurable  \n",
    "$\\implies  \\big\\{x\\in I\\vert f(x)+ \\big(-g(x)\\big)\\gt 0\\big\\}=\\big\\{x\\in I\\vert f(x) -g(x)\\gt 0\\big\\} = \\big\\{x\\in I\\vert f(x)\\gt g(x)\\big\\}$  \n",
    "is a measurable set   \n",
    "\n",
    "*corollaries*  \n",
    "$\\big\\{x\\in I\\vert g(x)\\gt f(x)\\big\\}$ is measurable [by interchanging the roles of $g$ and $f$] and so is  \n",
    "$\\big\\{x\\in I\\vert f(x)\\geq g(x)\\big\\}$ [use $\\geq s$ criterion instead of $s$]  \n",
    "\n",
    "**(b.)** Define   \n",
    "$h(x) :=\\max\\big\\{f(x),g(x)\\big\\} = \\begin{cases}f(x) & \\text{ if }f(x) \\geq g(x) \\\\ g(x) & \\text{otherwise}\\end{cases}$\n",
    "Show that $h$ is a measurable function.  \n",
    "\n",
    "For $s\\in \\mathbb R$  \n",
    "$\\big\\{x\\in I \\vert h(x)\\gt s\\big\\} = \\Big(\\big\\{x\\in I \\vert f(x)\\gt s\\big\\}\\cap \\big\\{x\\in I\\vert f(x)\\geq g(x)\\big\\} \\Big)\\bigcup \\Big(\\big\\{x\\in I \\vert g(x)\\gt s\\big\\}\\cap \\big\\{x\\in I\\vert g(x)\\gt f(x)\\big\\}\\Big) $  \n",
    "where each pairwise intersection is between measurable sets hence is measurable then the union of those two is also measurable  \n"
   ]
  },
  {
   "cell_type": "code",
   "execution_count": null,
   "id": "b062539b",
   "metadata": {},
   "outputs": [],
   "source": []
  },
  {
   "cell_type": "markdown",
   "id": "02880fa3",
   "metadata": {},
   "source": [
    "**ex 2.6.8**  \n",
    "Suppose $f$ is measurable on $I=[a,b]$ and $f(x)\\geq 0$ a.e. on $I$.  Prove that if the set $\\big\\{x \\in I\\vert f(x)\\gt 0\\big\\}$ has positive measure, then for some positive integer $n$ the set  $E_n:= \\big\\{x\\in I\\vert f(x)\\gt \\frac{1}{n}\\big\\}$  has positive measure.  \n",
    "\n",
    "Note: all $E_n$ are measurable since $f$ is measurable  \n",
    "\n",
    "if $p \\in \\big\\{x \\in I\\vert f(x)\\gt 0\\big\\}$ then $f\\big(p\\big) = c \\gt 0$  hence $c\\gt \\frac{1}{n}$ for $n\\geq N\\implies p \\in E_n$ for some $n$  \n",
    "$\\implies \\big\\{x \\in I\\vert f(x)\\gt 0\\big\\}\\subseteq \\bigcup_{n=1}^\\infty E_n$  \n",
    "$\\implies 0 \\lt m\\big(\\big\\{x \\in I\\vert f(x)\\gt 0\\big\\}\\big) \\leq m\\big( \\bigcup_{n=1}^\\infty E_n\\big)\\leq  \\sum_{n=1}^\\infty m\\big( E_n\\big)\\implies m\\big( E_n\\big)\\gt 0$ for some $n$   \n",
    "\n",
    "**question:**  \n",
    "Why does it tell us $f(x)\\geq 0$ a.e. on $I$? That information is not needed for the proof.  "
   ]
  },
  {
   "cell_type": "markdown",
   "id": "164ec1f5",
   "metadata": {},
   "source": [
    "**ex 2.6.9**  \n",
    "Let $f$ be a measurable function on the interval $I$.  Show that $f^2$ is measurable on the interval.  \n",
    "\n",
    "*remark:*  \n",
    "this was mentioned on page 62 from that we can infer that $f^2$ denotes $f(x)\\cdot f(x)$ *not* $f\\circ f$  \n",
    "\n",
    "select $s\\in \\mathbb R$  \n",
    "\n",
    "if $s\\leq 0$ then $\\big\\{x \\in I\\vert f(x)^2\\geq s\\big\\} = \\big[a,b\\big]$  \n",
    "and for $s\\gt 0$  \n",
    "$\\big\\{x \\in I\\vert f(x)^2\\geq s\\big\\}=\\big\\{x \\in I\\vert f(x)\\geq \\sqrt{s}\\big\\}\\bigcup \\big\\{x \\in I\\vert f(x)\\leq -\\sqrt{s}\\big\\}$  \n",
    "the union of two measurable sets (since $f$ is measurable) hence is measurable \n"
   ]
  },
  {
   "cell_type": "markdown",
   "id": "d1c4bd99",
   "metadata": {},
   "source": [
    "**ex 2.6.10**  \n",
    "Let $f$ and $g$ be measurable on an interval $I$.  If $g(x)\\neq 0$ on $I$, show that $\\frac{f}{g}$ is a measurable function.  (In other words prove the third part of Theorem 2.1.6).  \n",
    "\n",
    "It suffices to show $h(x):=\\frac{1}{g(x)}$ is measurable as part 2 of Theorem 2.1.6 then tells us that $h\\cdot f = \\frac{f}{g}$ is measurable.  \n",
    "\n",
    "*(i.)*  for $s \\in \\big(0, \\infty\\big) $ by measurability of $g$ we know  \n",
    "$\\big\\{x \\in I\\vert g(x)\\lt s\\big\\}= \\big\\{x \\in I\\vert \\frac{1}{g(x)}\\gt \\frac{1}{s}\\big\\}$ for $\\frac{1}{s} \\in \\big(0, \\infty\\big)$  \n",
    "is measurable  \n",
    "\n",
    "*(ii.)* $s=0$  \n",
    "$\\big\\{x \\in I\\vert g(x)\\gt 0\\big\\}= \\big\\{x \\in I\\vert \\frac{1}{g(x)}\\gt 0\\big\\}$  \n",
    "is measurable  \n",
    "\n",
    "*(iii.)*  $s\\in \\big(-\\infty, 0\\big)$  \n",
    "$\\big\\{x \\in I\\vert g(x)\\gt s\\big\\}= \\big\\{x \\in I\\vert g(x) \\in(s,0)\\big\\}\\bigcup \\big\\{x \\in I\\vert g(x) \\in(0,\\infty)\\big\\} = \\big\\{x \\in I\\vert \\frac{1}{g(x)} \\in (-\\infty, s^{-1})\\big\\} \\bigcup \\big\\{x \\in I\\vert \\frac{1}{g(x)}\\gt 0\\big\\}$   \n",
    "$= \\big\\{x \\in I\\vert \\frac{1}{g(x)}\\lt \\frac{1}{s}\\big\\} \\bigcup \\big\\{x \\in I\\vert \\frac{1}{g(x)}\\gt 0\\big\\}$  \n",
    "a disjoint union (one set containing values where $x$ is negative under image of $\\frac{1}{g(x)}$ and the other positive values under $\\frac{1}{g(x)}$)  \n",
    "\n",
    "$\\implies \\big\\{x \\in I\\vert \\frac{1}{g(x)}\\lt \\frac{1}{s}\\big\\} = \\big\\{x \\in I\\vert g(x)\\gt s\\big\\}- \\big\\{x \\in I\\vert \\frac{1}{g(x)}\\gt 0\\big\\} = \\big\\{x \\in I\\vert g(x)\\gt s\\big\\}\\bigcap \\big\\{x \\in I\\vert \\frac{1}{g(x)}\\gt 0\\big\\}^C $  \n",
    "the intersection of 2 measurable sets hence measurable.  Since $\\frac{1}{s}\\in \\big(-\\infty, 0\\big)$ this completes the proof.  \n",
    "\n",
    "(By convention the complement is taken in $\\mathbb R^n$, with $n=1$ here, in this book but we want the complement in $I$ hence we would typically chain on $\\bigcap  I$ at the end though this is not needed since $\\big\\{x \\in I\\vert g(x)\\gt s\\big\\} \\subseteq I$.)  \n",
    "\n"
   ]
  },
  {
   "cell_type": "code",
   "execution_count": null,
   "id": "96a34630",
   "metadata": {},
   "outputs": [],
   "source": []
  },
  {
   "cell_type": "markdown",
   "id": "baab62e3",
   "metadata": {},
   "source": [
    "**ex 2.6.11**  \n",
    "Suppose $f$ and $g$ are bounded functions on $[a,b]$.  Let $P$ be a measurable partition of $[a,b]$.  State and prove a comparison between $U[f+g,P]$ and $U[f,P] + U[g,P]$.  Do the same for lower sums-- i.e. for $L[f+g,P]$ and $L[f,P] + L[g,P]$.  \n",
    "\n",
    "*remark:* ref ex 0.4.14 in nelson_chp0.ipynb -- we get $U[f+g,P]\\leq U[f,P] + U[g,P]$ and $L[f+g,P]\\geq L[f,P] + L[g,P]$--  the argument here runs identically to that except e.g. $M_i$ corresponds to a supremum over measurable (partition) set $E_i$ rather than just an interval, so instead of $x\\in {[x_{i-1},x_i]}$ we say $x\\in E_i$.  "
   ]
  },
  {
   "cell_type": "code",
   "execution_count": null,
   "id": "483861df",
   "metadata": {},
   "outputs": [],
   "source": []
  },
  {
   "cell_type": "markdown",
   "id": "0a7355ef",
   "metadata": {},
   "source": [
    "**ex 2.6.12**  \n",
    "Let $f$ be measurable on $[a,b]$ and let $P_1=\\big\\{E_1, \\dots, E_n\\big\\}, P_2= \\big\\{F_1, \\dots, F_m\\big\\}$ be measurable partitions of $[a,b]$.  If $P_2$ is a refinement of $P_1$ show that  \n",
    "$L[f,P_1]\\leq L[f,P_2]$ and $U[f, P_2] \\leq U[f,P_1]$  \n",
    "\n",
    "*remark:* compare against Lemma 0.2.2(i) on page 5   \n",
    "- - - -  \n",
    "**technical nit/ errata**   \n",
    "This is a section 2 problem (left as exercise on page 71) where we are only dealing with bounded functions so the problem should say consider measurable $f\\in B[a,b]$. I *assume that* $f$ is **bounded** though it was not stated in the problem; truncation to deal with unbounded functions is not introduced until section 3\n",
    "- - - -  \n",
    "\n",
    "\n",
    "The biggest challenge here is probably notation.  Since $P_2$ is a refinement of $P_1$ per def 2.2.7 this means each $F_k \\subseteq E_j$ for some $j$; we may act as if the $j$ is unique, since  $F_k \\subseteq E_j\\cap E_{j'}$ for $j'\\neq j$ means $0\\leq m\\big(F_k\\big)\\leq m\\big(E_j\\cap E_{j'}\\big) =0$ so define indicator (/characteristic) function $ \\mathcal X_{k,j}=1$ if $F_k\\subseteq E_j$ and $=0$ otherwise   \n",
    "\n",
    "$U\\big[f,P_2\\big]= \\sum_{k=1}^m M_{F_k}\\cdot m\\big(F_k\\big)=\\sum_{k=1}^m M_{F_k}\\cdot m\\big(F_k\\big)\\cdot\\sum_{j=1}^m\\mathcal X_{k,j}= \\sum_{j=1}^n\\sum_{k=1}^m   M_{F_k}\\cdot \\mathcal X_{k,j}\\cdot m\\big(F_k\\big)$  \n",
    "$\\leq \\sum_{j=1}^n M_{E_j}\\cdot  \\Big(\\sum_{k=1}^m   \\mathcal X_{k,j}\\cdot  m\\big(F_k\\big)\\Big)=\\sum_{j=1}^n M_{E_j}\\cdot   m\\big(E_j\\big)=U\\big[f,P_1\\big]$  \n",
    "the first inequality holds since $F_k\\subseteq E_j\\implies \\sup f\\big(F_k\\big)\\leq \\sup  f\\big(E_j\\big)$ [e.g. consider $f(x_r)$ for $x_r \\in F_k$ and take a limit] and  \n",
    "$\\sum_{k=1}^m \\mathcal X_{k,j}\\cdot  m\\big(F_k\\big) = m\\big(E_j\\big)$ since $F_k$ are measurable partitions of $[0,1]$ and when we restrict to the subset $S$ where $\\mathcal X_{k,j} = 1$, then $\\bigcup_{s\\in S}\\subseteq E_j$  \n",
    "$\\implies \\sum_{k=1}^m \\mathcal X_{k,j}\\cdot  m\\big(F_k\\big)=\\sum_{s\\in S} m\\big(s\\big)= m\\big(\\bigcup_{s\\in S}\\big)\\leq m\\big(E_j\\big)$  where the inequality must be met *with equality* -- if it is not for some $j$ then we can consider the constant function $g(x) =1$ to conclude $b-a=U\\big[g,P_2\\big] \\lt U\\big[g,P_1\\big]=b-a$ which is a contradiction.  \n",
    "\n",
    "The argument for $L\\big[f,P_2\\big]\\geq L\\big[f,P_1\\big]$ runs essentially identically (albeit with the inequality flipped)  \n",
    "$L\\big[f,P_2\\big]= \\sum_{k=1}^m m_{F_k}\\cdot m\\big(F_k\\big)=\\sum_{k=1}^m m_{F_k}\\cdot m\\big(F_k\\big)\\cdot\\sum_{j=1}^m\\mathcal X_{k,j}= \\sum_{j=1}^n\\sum_{k=1}^m   m_{F_k}\\cdot \\mathcal X_{k,j}\\cdot m\\big(F_k\\big)$  \n",
    "$\\geq \\sum_{j=1}^n m_{E_j}\\cdot  \\Big(\\sum_{k=1}^m   \\mathcal X_{k,j}\\cdot  m\\big(F_k\\big)\\Big)=\\sum_{j=1}^n m_{E_j}\\cdot   m\\big(E_j\\big)=U\\big[f,P_1\\big]$  \n",
    "\n",
    "\n",
    "\n"
   ]
  },
  {
   "cell_type": "code",
   "execution_count": null,
   "id": "649b1e29",
   "metadata": {},
   "outputs": [],
   "source": []
  },
  {
   "cell_type": "markdown",
   "id": "3a1b6c98",
   "metadata": {},
   "source": [
    "**ex 2.6.13**  \n",
    "Let $f$ and $g$ be bounded, Lebesgue integrable functions on $[a,b]$.  \n",
    "\n",
    "**(i.)** Show that $f+g$ is a Lebesgue integrable function on $[a,b]$  \n",
    "applying Lemma 2.2.11 there are measurable partitions $P_f$ and $P_g$ with common refinement $P^*$  \n",
    "satisfying  \n",
    "$U[f, P_f]-L[f, P_f]\\lt \\frac{\\epsilon}{2}\\text{ & } U[g, P_g]-L[g, P_g]\\lt \\frac{\\epsilon}{2}$   \n",
    "$\\implies U[f, P^*]-L[f, P^*]\\lt \\frac{\\epsilon}{2}\\text{ & } U[g, P^*]-L[g, P^*]\\lt \\frac{\\epsilon}{2}$   \n",
    "where the implication is ex 2.6.12  \n",
    "$\\implies U[f+g, P^*]-L[f+g, P^*] \\leq \\big(U[f, P^*]+ U[g, P^*]\\big)-\\big( L[g, P^*] + L[g, P^*]\\big)\\lt \\epsilon$ which holds due to ex 2.6.11    \n",
    "\n",
    "**(ii.)** and \n",
    "$\\int_{a}^b f+g = \\int_{a}^b f + \\int_{a}^b g$    \n",
    "\n",
    "ref ex 0.4.14 in nelson_chp0.ipynb  \n",
    "aside from notation differences, the argument runs identically.  "
   ]
  },
  {
   "cell_type": "markdown",
   "id": "da408dca",
   "metadata": {},
   "source": [
    "**ex 2.6.14**  \n",
    "Let $h$ be a bounded function that is zero $a.e.$ in $[a,b]$.  Show that $h$ is Lebesgue integrable on $[a,b]$ and $\\int_{a}^b h =0$  \n",
    "\n",
    "let $E_1$ be the set on which $h$ is non-zero and $E_0:= [a,b]-E_1 = [a,b]\\cap E_1^C$; $E_1$ is measurable since it has measure zero and $E_0$ is the intersection of measurable sets hence $P:=\\big\\{E_0, E_1\\big\\}$ is a measurable partition of $[a,b]$.  \n",
    "$h$ is bounded so $\\vert h(x)\\vert \\leq K$ for all $x\\in [a,b]$  \n",
    "$U[h,P] = M_0 \\cdot m\\big(E_0\\big)+M_1 \\cdot m\\big(E_1\\big)\\leq M_0 \\cdot m\\big(E_0\\big)+K \\cdot m\\big(E_1\\big)=M_0 \\cdot m\\big(E_0\\big)+K\\cdot 0=M_0 \\cdot m\\big(E_0\\big)=0$  \n",
    "$L[f,P] = m_0 \\cdot m\\big(E_0\\big)+m_1 \\cdot m\\big(E_1\\big)\\geq m_0 \\cdot m\\big(E_0\\big)-K \\cdot m\\big(E_1\\big)=m_0 \\cdot m\\big(E_0\\big)=0$  \n",
    "\n",
    "Thus $0\\leq L[f,P]\\leq \\sup_{P'\\in \\mathcal P} L[f,P']\\leq \\inf_{P'\\in \\mathcal P} U[f,P'] \\leq U[f,P]\\leq 0$\n",
    "there the middle inequality is Lemma 2.2.8(ii) and checking Def 2.2.5, since all inequalities are met with equality this means $f$ is Lebesgue integrable and the integral is zero  "
   ]
  },
  {
   "cell_type": "markdown",
   "id": "8e4515a6",
   "metadata": {},
   "source": [
    "**ex 2.6.15**  \n",
    "\n",
    "recall def 2.1.7 (p. 62) that a simple function defined on an interval $I$ has that form  \n",
    "$\\varphi(x) =\\sum_{k=1}^n \\alpha_k\\cdot \\mathcal X_{E_k}(x)$  \n",
    "\n",
    "Let $\\varphi$ be a simple function defined on $[a,b]$.  \n",
    "**(a.)** Show that $\\varphi$ is measurable on $[a,b]$  \n",
    "Note that part (b) combined with Theorem 2.2.13 will give the result here but more basically we can use that fact that $[a,b]$ is measurable (it is a closed set) hence applying ex 2.6.1 we conclude that $\\mathcal X_{E_k}$ is measurable  for each $k$ and linear combinations of measurable functions (defined on the same interval) are measurable since they form a ring -- recall Theorem 2.1.5 and Theorem 2.1.6.  \n",
    "\n",
    "**(b.)** Show that $\\varphi$ is Lebesgue integrable on $[a,b]$. Use the definition of the Lebesgue integral to compute $\\int_{a}^b \\varphi$  \n",
    "$P:=\\big\\{E_1, \\dots, E_n\\big\\}$ is a measurable partition of the interval $I$ and  \n",
    "$U[h,P] = \\sum_{k=1}^n M_K \\cdot m\\big(E_k\\big)=\\sum_{k=1}^n \\alpha_K \\cdot m\\big(E_k\\big)$  \n",
    "$L[h,P] = \\sum_{k=1}^n m_K \\cdot m\\big(E_k\\big)=\\sum_{k=1}^n \\alpha_K \\cdot m\\big(E_k\\big)$  \n",
    "so, ala the prior exercise we recover  \n",
    "$\\sum_{k=1}^n \\alpha_K \\cdot m\\big(E_k\\big)=L[f,P]\\leq \\sup_{P'\\in \\mathcal P} L[f,P']\\leq \\inf_{P'\\in \\mathcal P} U[f,P'] \\leq U[f,P]=\\sum_{k=1}^n \\alpha_K \\cdot m\\big(E_k\\big)$\n",
    "which per Def 2.2.5 shows that Lebesgue integral exists and is equal to $\\sum_{k=1}^n \\alpha_K \\cdot m\\big(E_k\\big)$"
   ]
  },
  {
   "cell_type": "code",
   "execution_count": null,
   "id": "7a3b0419",
   "metadata": {},
   "outputs": [],
   "source": []
  },
  {
   "cell_type": "markdown",
   "id": "c0aa5eb1",
   "metadata": {},
   "source": [
    "**ex 2.6.16**  \n",
    "Let $f\\in \\mathcal L[a,b]$.  Show that if $g$ is a bounded measurable function then $f\\cdot g \\in \\mathcal L[a,b]$  \n",
    "\n",
    "**original attempt**  \n",
    "*bounded f*   \n",
    "per Theorem 2.2.13 $f$ is measurable on $[a,b]$ hence $f\\cdot g$ is bounded and measurable Theorem 2.1.6(ii) hence $\\in \\mathcal L[a,b]$ per Theorem 2.2.12 \n",
    "\n",
    "*unbounded f*   \n",
    "The preceding case shows $^N f\\cdot g= g \\cdot ^N f$ is Lebesgue integrable so per def 2.3.1 it remains to show finite limits to  \n",
    " \n",
    " $\\lim_{N\\to \\infty}\\int_a^b (^N f \\cdot g)^{+}+\\lim_{N\\to \\infty}\\int_a^b (^N f \\cdot g)^{-}$  \n",
    " $=\\lim_{N\\to \\infty}\\int_a^b \\ ^N f^{+} \\cdot g^{+} +\\lim_{N\\to \\infty}\\int_a^b \\ ^N f^{-} \\cdot g^{-} +\\lim_{N\\to \\infty}\\int_a^b \\ ^N f^+ \\cdot g^{-}+\\lim_{N\\to \\infty}\\int_a^b \\ ^N f^- \\cdot g^{+}$ \n",
    "$\\leq K\\cdot \\lim_{N\\to \\infty}\\int_a^b \\ ^N f^{+}  +K\\cdot \\lim_{N\\to \\infty}\\int_a^b \\ ^N f^{-}+K\\cdot\\lim_{N\\to \\infty}\\int_a^b \\ ^N f^+ + K\\cdot\\lim_{N\\to \\infty}\\int_a^b \\ ^N f^-$  \n",
    "$=2 K\\cdot \\Big(\\lim_{N\\to \\infty}\\int_a^b \\ ^N f^{+}  + \\lim_{N\\to \\infty}\\int_a^b \\ ^N f^{-}\\Big)\\lt \\infty$   \n",
    "- - - -  \n",
    "**the problem:**  \n",
    "strictly speaking we need to apply Def 2.3.1 which requires truncation of the combined function, i.e. \n",
    "\n",
    "$^N \\big(f\\cdot g\\big)$ but in general $^N \\big(f\\cdot g\\big)\\neq ^N f\\cdot g$\n",
    "\n",
    "\n",
    "**fix 1:**  \n",
    "In the *special case* that $g$ is also a characteristic function we do have $^N \\big(f\\cdot g\\big)= ^N f\\cdot g$ so the above proof does work.  This allows us to sensibly use Def 2.3.10 which is the only place in the chapter were this result is need.  From here we have  $\\big \\vert ^N f\\cdot g\\big \\vert \\leq K \\cdot \\big \\vert f\\big \\vert$ and the right hand side is a dominating function in $\\mathcal L[a,b]$ and the left hand side is integrable for all $N\\in \\mathbb N$ so the limit, $f\\cdot g \\in \\mathcal L[a,b]$ per Dominated Convergence (Theorem 2.4.6).  \n",
    "\n",
    "\n",
    "**fix 2:**  \n",
    "$f\\in \\mathcal L[a,b]\\implies f \\text{ is (Lebesgue) measurable}$  \n",
    "$f\\in \\mathcal L[a,b]\\implies N^f \\in \\mathcal L[a,b]$ which is bounded hence measurable (Theorem 2.2.13)  \n",
    "so e.g. to show $f^+$ is measurable: for any $s \\gt 0$ we may write $s\\cdot c = 1$ hence with $N:=1$ we have  \n",
    "$^1 \\big(\\frac{f^+}{c} \\big)$  is a measurable function and the set $\\Big\\{x \\big\\vert f^+\\geq s \\Big\\} =\\Big\\{x \\big\\vert ^1 \\big(\\frac{f^+}{c}\\big)\\geq 1 \\Big\\}$ is measurable.  And for $s \\leq 0$ we have $\\Big\\{x \\big\\vert f^+\\geq s \\Big\\} = \\Big\\{x \\big\\vert ^1 f^{+}\\geq s \\Big\\} $ is measurable, hence $f^{+}$ is measurable; $f^{-}$ is measurable by a nearly identical argument. Thus $f= f^{+}-f^{-}$ is measurable since measurable functions form a ring (Theorems 2.1.5 and 2.1.6).    \n",
    "\n",
    "$^N f = f \\cdot \\mathcal X_\\in \\mathcal L[a,b]\\implies f \\text{ is (Lebesgue) measurable}$  \n",
    "\n",
    "Thus $f\\cdot g$ is measurable.  \n",
    "$^N (f\\cdot g)^{+}= (f\\cdot g)^{+}\\cdot \\mathcal X_E + N\\cdot (1- \\mathcal X_E) $ and  \n",
    "$^N (f\\cdot g)^{-}= (f\\cdot g)^{-}\\cdot \\mathcal X_S + N\\cdot (1- \\mathcal X_S) $  \n",
    "for well chosen characteristic functions $\\mathcal X_E, \\mathcal X_S$, so $^N (f\\cdot g)^{+}, ^N (f\\cdot g)^{-}$ are measurable since measurable functions form a ring.  \n",
    "\n",
    "Thus bounded measurable functions $ ^N (f\\cdot g)^{+}, ^N (f\\cdot g)^{-} \\in \\mathcal L[a,b]$ (Theorem 2.2.12).  \n",
    "\n",
    "Finally $g\\leq K$ since $g$ is bounded so with $H_N:= ^N (f\\cdot g)^{+}$ or $H_N:= ^N (f\\cdot g)^{-}$  \n",
    "$H_N \\leq K \\cdot \\vert f\\vert\\implies \\int_{a}^{b} H_N  \\leq K \\cdot $ $\\int_a^b \\vert f\\vert\\lt \\infty$  (Theorem 2.3.6)  \n",
    "$\\implies \\int_a^b f\\cdot g =\\lim_{N\\to \\infty} \\int_{a}^{b} H_N \\leq K \\cdot $ $\\int_a^b \\vert f\\vert\\lt \\infty$  \n",
    "so the positive and negative parts of $f\\cdot g$ are Lebesgue Integrable hence $f\\cdot g\\in \\mathcal L[a,b]$ (check Def 2.3.1).  \n"
   ]
  },
  {
   "cell_type": "markdown",
   "id": "fc154db9",
   "metadata": {},
   "source": []
  },
  {
   "cell_type": "markdown",
   "id": "acf5450f",
   "metadata": {},
   "source": [
    "**ex 2.6.17**  \n",
    "Prove or give a counterexample:  \n",
    "If $f, g\\in \\mathcal L[a,b]$, then $f\\cdot g\\in \\mathcal L[a,b]$  \n",
    "\n",
    "using example 2.3.3, let $f(x)= \\frac{1}{\\sqrt{x}}=g(x) $, then $h(x):=f(x)\\cdot g(x) = \\frac{1}{x}$  \n",
    "\n",
    "if we truncate the domain as an improper Riemann integral this becomes   \n",
    "$\\int_{a}^1 h = \\ln(1) - \\ln(a)=- \\ln(a)$  which goes $\\to \\infty$ as $a\\to 0$  \n",
    "\n",
    "if we instead consider $^N h(x) = ^N g(x)\\cdot ^N g(x)$ with the truncation given under example 2.3.3, then  \n",
    "\n",
    "$\\int_{0}^1\\ ^Nh= \\int_{0}^\\frac{1}{N^2}\\  N^2+\\int_{\\frac{1}{N^2}}^1\\ \\frac{1}{x}=1- \\ln\\big(\\frac{1}{N^2}\\big)$  \n",
    "which fails to have a finite limit hence isn't Lebesgue integrable."
   ]
  },
  {
   "cell_type": "markdown",
   "id": "22775ad1",
   "metadata": {},
   "source": [
    "**ex 2.6.18**  \n",
    "Let $f$ be a differentiable function on $[a,b]$.  Prove that $f'$ is a measurable function:  \n",
    "Hint: consider $\\lim_{n\\to \\infty}\\frac{f(x + \\frac{1}{n})-f(x)}{\\frac{1}{n}}$  \n",
    "\n",
    "*note:* I take this to mean the left and right derivatives exist at $a$ and $b$ respectively.  \n",
    "Define $G_n :[a,b]\\longrightarrow \\mathbb R$ given by  \n",
    "$G_n\\big(x\\big)= \\frac{f(x + \\frac{1}{n})-f(x)}{\\frac{1}{n}}$ for $a \\leq x \\leq b-\\frac{1}{n}$ and $G_n\\big(x\\big) = G_n\\big(b-\\frac{1}{n}\\big)$ for $b-\\frac{1}{n} \\leq x \\leq b$\n",
    "(this is valid for all $n$ large enough)  \n",
    "$f$ being differentiable means it is continuous hence $G_n$ is continuous hence each $G_n$ is bounded (due to compactness) and  Riemann Integrable (Theorem 0.2.6) thus Lebesgue integrable (Prop 2.2.10) hence Lebesgue measurable (Theorem 2.2.13).  \n",
    "\n",
    "Now define $g_n\\big(x\\big):= G_n\\big(x\\big)$ except $g_n(b):= f'(b)$.  Then $g_n$ is measurable per Prop 2.1.9 and $g_n \\to f'$ pointwise on $[a,b]$ hence $f'$ is measurable per Corollary 2.1.13.  "
   ]
  },
  {
   "cell_type": "markdown",
   "id": "d71a1cf1",
   "metadata": {},
   "source": [
    "**ex 2.6.19**  \n",
    "Let $f\\in \\mathcal L[a,b]$ and measurable $A, B\\subseteq [a,b]$  \n",
    "\n",
    "**(a.)** if $A\\cap B =\\big\\{\\big\\}$ show that $\\int_{A \\cup B} f= \\int_A f + \\int_B f$  \n",
    "$\\int_{A \\cup B} f = \\int_{a}^b \\big(\\mathcal X_a + \\mathcal X_b \\big)\\cdot f = \\int_{a}^b \\mathcal X_a \\cdot f+\\int_{a}^b \\mathcal X_b \\cdot f  = \\int_A f + \\int_B f$  \n",
    "where Theorem 2.3.5 is used for the middle equality  \n",
    "\n",
    "**(b.)** State and prove a result for the case that $A\\cap B \\neq \\big\\{\\big\\}$ recall ex 2.6.16   \n",
    "$\\int_{A \\cup B} f = \\int_{a}^b \\big(\\mathcal X_a + \\mathcal X_b - \\mathcal X_a\\cdot \\mathcal X_b \\big)\\cdot f = \\Big(\\int_{a}^b \\mathcal X_a \\cdot f+\\int_{a}^b \\mathcal X_b \\cdot f\\Big) -\\int_{a}^b \\mathcal X_a\\mathcal X_b \\cdot f  = \\int_A f + \\int_B f- \\int_{A\\cap B}f$  \n",
    "\n",
    "\n",
    "**(c.)** What can you conclude if $A=[a,c]$ and $B = [c,b]$ for some $ c\\in(a,b)$  \n",
    "this is just Theorem 2.3.4"
   ]
  },
  {
   "cell_type": "markdown",
   "id": "2b48b83a",
   "metadata": {},
   "source": [
    "**ex 2.6.20**  \n",
    "Let $f\\in \\mathcal L[a,b]$.  For $x \\in (a,b)$ define $G(x)$ by  \n",
    "$G(x) = \\int_a^x f$  \n",
    "\n",
    "Prove or give a counterexample: $G$ is continuous on $(a,b)$.  \n",
    "Def 2.3.10 and Lemma 2.3.11 and Thm 2.3.4 \n",
    "\n",
    "select $\\epsilon \\gt 0$, then per Lemma 2.3.11 there is a $\\delta \\gt 0$ such that for any $E\\subseteq  [a,b]$, if $m(E) \\lt \\delta$ then $\\big\\vert \\int_E f\\big\\vert \\lt \\epsilon$, so e.g. if $x' \\in B\\big(x,\\delta\\big)\\cap \\big(a,b\\big)$ then $E:= [x,x']$ or $E:= [x',x]$ as appropriate then $m\\big(E\\big)\\lt \\delta$ so  \n",
    "\n",
    "$\\epsilon \\gt \\big\\vert \\int_E f\\big\\vert = \\big\\vert \\int_a^b  f \\cdot \\mathcal X_E\\big\\vert=\\big\\vert \\int_a^x  f -  \\int_a^{x'}  f\\big\\vert $  \n",
    "as required where the final equality is Theorem 2.3.5  "
   ]
  },
  {
   "cell_type": "markdown",
   "id": "b26dc4ed",
   "metadata": {},
   "source": [
    "  "
   ]
  },
  {
   "cell_type": "markdown",
   "id": "d5b6854f",
   "metadata": {},
   "source": [
    "**ex 2.6.21**  \n",
    "\n",
    "Let $f: [0,1]\\rightarrow\\mathbb R$ defined by  \n",
    "$f(x) = n \\cdot (-1)^n$ when $\\frac{1}{n+1}\\lt x \\leq \\frac{1}{n}$ and $=0$ otherwise (i.e. $f(0)=0)$.  \n",
    "\n",
    "**(a)** $f$ is not a bounded function since it takes on every value in $\\mathbb N$  \n",
    "**(b)** $f\\notin \\mathcal L[0,1]$  -- if it were then $\\vert f\\vert = f^+ + f^-$ would be as well and  \n",
    "consider $f_k = \\vert f\\vert$ for $n\\leq k$ and $=0$ otherwise then  \n",
    "$\\int_0^1 f_k = \\sum_{j=1}^k j\\cdot\\big(\\frac{1}{j}-\\frac{1}{j+1}\\big) =\\sum_{j=1}^k\\frac{1}{j+1}$  [in effect applying Theorem 2.3.4 and integrating a constant function]   \n",
    "but $\\lim_{k\\to \\infty}\\int_0^1 f_k =\\sum_{j=1}^\\infty\\frac{1}{j+1}=\\infty$ since the Harmonic series (minus 1) diverges hence using Monotone Convergence Theorem (Theorem 2.4.13) we conclude $\\int_a^b \\vert f\\vert$ does not exist [recall for Def 2.3.1 the integral must be finite to exist]  \n",
    "**(c)** Does the improper Riemann integral $\\int_0^1 f(x)dx$ exist?  \n",
    "Yes-- this is understood as an improper integral of the second type, i.e.  \n",
    "$\\lim_{k\\to \\infty} $ $\\int_{k^{-1}}^1 f(x)dx=\\sum_{j=1}^\\infty (-1)^j\\frac{1}{j+1}= \\log(2)-1$  (alternating harmonic series minus 1)  "
   ]
  },
  {
   "cell_type": "markdown",
   "id": "1325866d",
   "metadata": {},
   "source": [
    "**ex 2.6.22**  \n",
    "let $F\\in\\mathcal L[a,b]$   and $\\big\\{A_k\\big\\}$ be a countable collection of pairwise disjoint measurable subsets of $[a,b]$.  Explain why the statement  \n",
    "$\\sum_k \\int_{A_k} F=\\int_{\\bigcup_k A_k}F $ involves interchanging limit operations.  Then prove it is true.  \n",
    "\n",
    "Write $F_n = F\\cdot \\sum_{k=1}^n\\mathcal X_{A_k}$ and let $G:=\\vert F\\vert = F^{+} + F^{-}\\in \\mathcal L[a,b]$  since $F^{+}, F^{-}\\in \\mathcal L[a,b]$ and by the vector space property for $\\mathcal L[a,b]$  \n",
    "$\\implies\\big \\vert F_n(x)\\big \\vert \\leq G(x)$ a.e. in $[a,b]$ thus  \n",
    "\n",
    "$\\sum_{k=1}^\\infty \\int_{A_k} F=\\lim_{n\\to \\infty}\\sum_{k=1}^n \\int_a^b F\\cdot \\mathcal X_{A_k}=\\lim_{n\\to \\infty}\\int_a^b F\\cdot \\sum_{k=1}^n\\mathcal X_{A_k}  = \\lim_{n\\to \\infty}\\int_a^b F_n = \\int_a^b \\lim_{n\\to \\infty} F_n=\\int_a^b  F\\cdot \\sum_{k=1}^\\infty\\mathcal X_{A_k}=\\int_{\\bigcup_k A_k}F$  \n",
    "\n",
    "The 2nd (to left) equality is Theorem 2.3.5(i) and the 4th equality is an interchange of limits that is justified  by Dominated Convergence.  I.e. interchanging limit with respect to a $n$ [for an infinite series] and an integral, the latter of which is equivalent to taking a limit of a sequence of measurable partitions to get $\\sup_{P \\in \\mathcal  P} L[F,P]$ and $\\inf_{P \\in \\mathcal  P} U[F,P]$ [see my commentary on ex 2.6.11 which refers back to ex 0.4.14]  "
   ]
  },
  {
   "cell_type": "markdown",
   "id": "2a06ed43",
   "metadata": {},
   "source": [
    "**ex 2.6.23**  \n",
    "Let $\\big\\{f_n\\big\\}$ be a sequence of functions in $\\mathcal L[a,b]$.  Suppose that there exists a function $g\\in \\mathcal L[a,b]$ with $\\big\\vert f_n(x)\\big\\vert \\leq g(x)$ a.e. for every $n$.  Show that if   \n",
    "$\\lim_{n\\to \\infty}f_n(x) = f(x) \\text{ a.e.}$ and $h$ is a bounded measurable function, then  \n",
    "$\\lim_{n\\to \\infty} \\int_a^b f_n \\cdot h= \\int_{a}^b  f\\cdot h$  \n",
    "\n",
    "define $\\vert h\\vert = h^+ + h^{-} \\in \\mathcal L[a,b]$  (same reasoning as prior exercise)  and  \n",
    "$G(x) = g \\cdot \\vert h\\vert \\in \\mathcal L[a,b]$ since $\\vert h\\vert$ is bounded (ex 2.6.16)\n",
    "\n",
    "then $\\big \\vert f_n \\cdot h\\big \\vert =\\big \\vert f_n \\big \\vert \\cdot\\big \\vert h\\big \\vert \\leq G$  \n",
    "\n",
    "so the desired result holds by Dominated Convergence  "
   ]
  },
  {
   "cell_type": "markdown",
   "id": "c4a1d2f3",
   "metadata": {},
   "source": [
    "**ex 2.6.24** \n",
    "Let $\\big\\{f_n\\big\\}$ be a sequence of functions in $\\mathcal L[a,b]$.  Suppose $f\\in \\mathcal L[a,b]$ and  $\\lim_{n\\to \\infty}\\int_a^b \\big \\vert f_n-f\\big\\vert =0$  \n",
    "If the sequence $\\big\\{f_n\\big\\}$ converges pointwise a.e. on $[a,b]$ to the function $g$ show that $f=g $ a.e. on $[a,b]$.  The hint is to use Fatou's Lemma on $\\big \\vert f_n-f\\big\\vert$.  \n",
    "\n",
    "\n",
    "\n",
    "$G_n:=\\big \\vert f-f_n\\big \\vert$ and $G:=\\big \\vert f-g\\big \\vert$  \n",
    "Then $G_n \\in \\mathcal L[a,b]$ (ref ex 22 argument with $\\vert F\\vert$) and $G_n\\to G$ pointwise $a.e.$  \n",
    "\n",
    "$\\implies   \\liminf _{n\\to \\infty}\\int_a^b G_n\\leq \\lim_{n\\to \\infty}\\int_a^b G_n=0\\lt \\infty $  \n",
    "$\\implies G \\in \\mathcal L[a,b]$  \n",
    "$\\implies\\int_a^b G \\leq \\liminf _{n\\to \\infty}\\int_a^b G_n\\leq \\lim_{n\\to \\infty}\\int_a^b G_n=0$  \n",
    "Per Fatou's Lemma [preliminary form in Theorem 2.4.10]  \n",
    "\n",
    "$\\implies G = 0$ a.e.  \n",
    "per Theorem 2.3.9  \n",
    "conclude $f =g $ a.e.  "
   ]
  }
 ],
 "metadata": {
  "kernelspec": {
   "display_name": "Python 3 (ipykernel)",
   "language": "python",
   "name": "python3"
  },
  "language_info": {
   "codemirror_mode": {
    "name": "ipython",
    "version": 3
   },
   "file_extension": ".py",
   "mimetype": "text/x-python",
   "name": "python",
   "nbconvert_exporter": "python",
   "pygments_lexer": "ipython3",
   "version": "3.8.16"
  }
 },
 "nbformat": 4,
 "nbformat_minor": 5
}
